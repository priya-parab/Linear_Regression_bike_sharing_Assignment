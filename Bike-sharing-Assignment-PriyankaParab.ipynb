{
 "cells": [
  {
   "cell_type": "markdown",
   "id": "3b27cc28",
   "metadata": {},
   "source": [
    "# Bike Sharing Assignment by Priyanka Parab"
   ]
  },
  {
   "cell_type": "markdown",
   "id": "f35c62b0",
   "metadata": {},
   "source": [
    "## Problem Statement"
   ]
  },
  {
   "cell_type": "markdown",
   "id": "1015aea8",
   "metadata": {},
   "source": [
    "A bike-sharing system is a service in which bikes are made available for shared use to individuals on a short term basis for a price or free. Many bike share systems allow people to borrow a bike from a \"dock\" which is usually computer-controlled wherein the user enters the payment information, and the system unlocks it. This bike can then be returned to another dock belonging to the same system.\n",
    "\n",
    "\n",
    "A US bike-sharing provider **BoomBikes** has recently suffered considerable dips in their revenues due to the ongoing Corona pandemic. The company is finding it very difficult to sustain in the current market scenario. So, it has decided to come up with a mindful business plan to be able to accelerate its revenue as soon as the ongoing lockdown comes to an end, and the economy restores to a healthy state. \n",
    "\n",
    "\n",
    "In such an attempt, BoomBikes aspires to understand the demand for shared bikes among the people after this ongoing quarantine situation ends across the nation due to Covid-19. They have planned this to prepare themselves to cater to the people's needs once the situation gets better all around and stand out from other service providers and make huge profits.\n",
    "\n",
    "\n",
    "They have contracted a consulting company to understand the factors on which the demand for these shared bikes depends. Specifically, they want to understand the factors affecting the demand for these shared bikes in the American market. The company wants to know:\n",
    "\n",
    "* Which variables are significant in predicting the demand for shared bikes.\n",
    "* How well those variables describe the bike demands <br>\n",
    "\n",
    "Based on various meteorological surveys and people's styles, the service provider firm has gathered a large dataset on daily bike demands across the American market based on some factors. \n",
    "\n",
    "\n",
    "**Business Goal**:<br>\n",
    "You are required to model the demand for shared bikes with the available independent variables. It will be used by the management to understand how exactly the demands vary with different features. They can accordingly manipulate the business strategy to meet the demand levels and meet the customer's expectations. Further, the model will be a good way for management to understand the demand dynamics of a new market.\n",
    "\n"
   ]
  },
  {
   "cell_type": "markdown",
   "id": "59b24b96",
   "metadata": {},
   "source": [
    "# Importing required libraries"
   ]
  },
  {
   "cell_type": "code",
   "execution_count": 415,
   "id": "c9f1e7bf",
   "metadata": {},
   "outputs": [],
   "source": [
    "# Supress Warnings\n",
    "import warnings\n",
    "warnings.filterwarnings('ignore')"
   ]
  },
  {
   "cell_type": "code",
   "execution_count": 416,
   "id": "d7703817",
   "metadata": {},
   "outputs": [],
   "source": [
    "# Import of required libs\n",
    "import numpy as np\n",
    "import pandas as pd\n",
    "import matplotlib.pyplot as plt\n",
    "import seaborn as sns"
   ]
  },
  {
   "cell_type": "markdown",
   "id": "81674b8f",
   "metadata": {},
   "source": [
    "# Reading and Understanding the Data"
   ]
  },
  {
   "cell_type": "code",
   "execution_count": 417,
   "id": "3c7c3d43",
   "metadata": {},
   "outputs": [],
   "source": [
    "df1 = pd.read_csv(\"day.csv\")"
   ]
  },
  {
   "cell_type": "code",
   "execution_count": 418,
   "id": "a2a54cf6",
   "metadata": {},
   "outputs": [
    {
     "data": {
      "text/html": [
       "<div>\n",
       "<style scoped>\n",
       "    .dataframe tbody tr th:only-of-type {\n",
       "        vertical-align: middle;\n",
       "    }\n",
       "\n",
       "    .dataframe tbody tr th {\n",
       "        vertical-align: top;\n",
       "    }\n",
       "\n",
       "    .dataframe thead th {\n",
       "        text-align: right;\n",
       "    }\n",
       "</style>\n",
       "<table border=\"1\" class=\"dataframe\">\n",
       "  <thead>\n",
       "    <tr style=\"text-align: right;\">\n",
       "      <th></th>\n",
       "      <th>instant</th>\n",
       "      <th>dteday</th>\n",
       "      <th>season</th>\n",
       "      <th>yr</th>\n",
       "      <th>mnth</th>\n",
       "      <th>holiday</th>\n",
       "      <th>weekday</th>\n",
       "      <th>workingday</th>\n",
       "      <th>weathersit</th>\n",
       "      <th>temp</th>\n",
       "      <th>atemp</th>\n",
       "      <th>hum</th>\n",
       "      <th>windspeed</th>\n",
       "      <th>casual</th>\n",
       "      <th>registered</th>\n",
       "      <th>cnt</th>\n",
       "    </tr>\n",
       "  </thead>\n",
       "  <tbody>\n",
       "    <tr>\n",
       "      <th>0</th>\n",
       "      <td>1</td>\n",
       "      <td>01-01-2018</td>\n",
       "      <td>1</td>\n",
       "      <td>0</td>\n",
       "      <td>1</td>\n",
       "      <td>0</td>\n",
       "      <td>6</td>\n",
       "      <td>0</td>\n",
       "      <td>2</td>\n",
       "      <td>14.110847</td>\n",
       "      <td>18.18125</td>\n",
       "      <td>80.5833</td>\n",
       "      <td>10.749882</td>\n",
       "      <td>331</td>\n",
       "      <td>654</td>\n",
       "      <td>985</td>\n",
       "    </tr>\n",
       "    <tr>\n",
       "      <th>1</th>\n",
       "      <td>2</td>\n",
       "      <td>02-01-2018</td>\n",
       "      <td>1</td>\n",
       "      <td>0</td>\n",
       "      <td>1</td>\n",
       "      <td>0</td>\n",
       "      <td>0</td>\n",
       "      <td>0</td>\n",
       "      <td>2</td>\n",
       "      <td>14.902598</td>\n",
       "      <td>17.68695</td>\n",
       "      <td>69.6087</td>\n",
       "      <td>16.652113</td>\n",
       "      <td>131</td>\n",
       "      <td>670</td>\n",
       "      <td>801</td>\n",
       "    </tr>\n",
       "    <tr>\n",
       "      <th>2</th>\n",
       "      <td>3</td>\n",
       "      <td>03-01-2018</td>\n",
       "      <td>1</td>\n",
       "      <td>0</td>\n",
       "      <td>1</td>\n",
       "      <td>0</td>\n",
       "      <td>1</td>\n",
       "      <td>1</td>\n",
       "      <td>1</td>\n",
       "      <td>8.050924</td>\n",
       "      <td>9.47025</td>\n",
       "      <td>43.7273</td>\n",
       "      <td>16.636703</td>\n",
       "      <td>120</td>\n",
       "      <td>1229</td>\n",
       "      <td>1349</td>\n",
       "    </tr>\n",
       "    <tr>\n",
       "      <th>3</th>\n",
       "      <td>4</td>\n",
       "      <td>04-01-2018</td>\n",
       "      <td>1</td>\n",
       "      <td>0</td>\n",
       "      <td>1</td>\n",
       "      <td>0</td>\n",
       "      <td>2</td>\n",
       "      <td>1</td>\n",
       "      <td>1</td>\n",
       "      <td>8.200000</td>\n",
       "      <td>10.60610</td>\n",
       "      <td>59.0435</td>\n",
       "      <td>10.739832</td>\n",
       "      <td>108</td>\n",
       "      <td>1454</td>\n",
       "      <td>1562</td>\n",
       "    </tr>\n",
       "    <tr>\n",
       "      <th>4</th>\n",
       "      <td>5</td>\n",
       "      <td>05-01-2018</td>\n",
       "      <td>1</td>\n",
       "      <td>0</td>\n",
       "      <td>1</td>\n",
       "      <td>0</td>\n",
       "      <td>3</td>\n",
       "      <td>1</td>\n",
       "      <td>1</td>\n",
       "      <td>9.305237</td>\n",
       "      <td>11.46350</td>\n",
       "      <td>43.6957</td>\n",
       "      <td>12.522300</td>\n",
       "      <td>82</td>\n",
       "      <td>1518</td>\n",
       "      <td>1600</td>\n",
       "    </tr>\n",
       "  </tbody>\n",
       "</table>\n",
       "</div>"
      ],
      "text/plain": [
       "   instant      dteday  season  yr  mnth  holiday  weekday  workingday  \\\n",
       "0        1  01-01-2018       1   0     1        0        6           0   \n",
       "1        2  02-01-2018       1   0     1        0        0           0   \n",
       "2        3  03-01-2018       1   0     1        0        1           1   \n",
       "3        4  04-01-2018       1   0     1        0        2           1   \n",
       "4        5  05-01-2018       1   0     1        0        3           1   \n",
       "\n",
       "   weathersit       temp     atemp      hum  windspeed  casual  registered  \\\n",
       "0           2  14.110847  18.18125  80.5833  10.749882     331         654   \n",
       "1           2  14.902598  17.68695  69.6087  16.652113     131         670   \n",
       "2           1   8.050924   9.47025  43.7273  16.636703     120        1229   \n",
       "3           1   8.200000  10.60610  59.0435  10.739832     108        1454   \n",
       "4           1   9.305237  11.46350  43.6957  12.522300      82        1518   \n",
       "\n",
       "    cnt  \n",
       "0   985  \n",
       "1   801  \n",
       "2  1349  \n",
       "3  1562  \n",
       "4  1600  "
      ]
     },
     "execution_count": 418,
     "metadata": {},
     "output_type": "execute_result"
    }
   ],
   "source": [
    "# Check the head of the dataset\n",
    "df1.head()"
   ]
  },
  {
   "cell_type": "markdown",
   "id": "59f86fdb",
   "metadata": {},
   "source": [
    "# Data Cleaning and Exploratory Data Analysis "
   ]
  },
  {
   "cell_type": "code",
   "execution_count": 419,
   "id": "2d0df12c",
   "metadata": {},
   "outputs": [
    {
     "name": "stdout",
     "output_type": "stream",
     "text": [
      "<class 'pandas.core.frame.DataFrame'>\n",
      "RangeIndex: 730 entries, 0 to 729\n",
      "Data columns (total 16 columns):\n",
      " #   Column      Non-Null Count  Dtype  \n",
      "---  ------      --------------  -----  \n",
      " 0   instant     730 non-null    int64  \n",
      " 1   dteday      730 non-null    object \n",
      " 2   season      730 non-null    int64  \n",
      " 3   yr          730 non-null    int64  \n",
      " 4   mnth        730 non-null    int64  \n",
      " 5   holiday     730 non-null    int64  \n",
      " 6   weekday     730 non-null    int64  \n",
      " 7   workingday  730 non-null    int64  \n",
      " 8   weathersit  730 non-null    int64  \n",
      " 9   temp        730 non-null    float64\n",
      " 10  atemp       730 non-null    float64\n",
      " 11  hum         730 non-null    float64\n",
      " 12  windspeed   730 non-null    float64\n",
      " 13  casual      730 non-null    int64  \n",
      " 14  registered  730 non-null    int64  \n",
      " 15  cnt         730 non-null    int64  \n",
      "dtypes: float64(4), int64(11), object(1)\n",
      "memory usage: 91.4+ KB\n"
     ]
    }
   ],
   "source": [
    "#Checking Info of the dataframe df1\n",
    "df1.info()"
   ]
  },
  {
   "cell_type": "code",
   "execution_count": 420,
   "id": "f9be1a65",
   "metadata": {},
   "outputs": [
    {
     "data": {
      "text/html": [
       "<div>\n",
       "<style scoped>\n",
       "    .dataframe tbody tr th:only-of-type {\n",
       "        vertical-align: middle;\n",
       "    }\n",
       "\n",
       "    .dataframe tbody tr th {\n",
       "        vertical-align: top;\n",
       "    }\n",
       "\n",
       "    .dataframe thead th {\n",
       "        text-align: right;\n",
       "    }\n",
       "</style>\n",
       "<table border=\"1\" class=\"dataframe\">\n",
       "  <thead>\n",
       "    <tr style=\"text-align: right;\">\n",
       "      <th></th>\n",
       "      <th>instant</th>\n",
       "      <th>season</th>\n",
       "      <th>yr</th>\n",
       "      <th>mnth</th>\n",
       "      <th>holiday</th>\n",
       "      <th>weekday</th>\n",
       "      <th>workingday</th>\n",
       "      <th>weathersit</th>\n",
       "      <th>temp</th>\n",
       "      <th>atemp</th>\n",
       "      <th>hum</th>\n",
       "      <th>windspeed</th>\n",
       "      <th>casual</th>\n",
       "      <th>registered</th>\n",
       "      <th>cnt</th>\n",
       "    </tr>\n",
       "  </thead>\n",
       "  <tbody>\n",
       "    <tr>\n",
       "      <th>count</th>\n",
       "      <td>730.000000</td>\n",
       "      <td>730.000000</td>\n",
       "      <td>730.000000</td>\n",
       "      <td>730.000000</td>\n",
       "      <td>730.000000</td>\n",
       "      <td>730.000000</td>\n",
       "      <td>730.000000</td>\n",
       "      <td>730.000000</td>\n",
       "      <td>730.000000</td>\n",
       "      <td>730.000000</td>\n",
       "      <td>730.000000</td>\n",
       "      <td>730.000000</td>\n",
       "      <td>730.000000</td>\n",
       "      <td>730.000000</td>\n",
       "      <td>730.000000</td>\n",
       "    </tr>\n",
       "    <tr>\n",
       "      <th>mean</th>\n",
       "      <td>365.500000</td>\n",
       "      <td>2.498630</td>\n",
       "      <td>0.500000</td>\n",
       "      <td>6.526027</td>\n",
       "      <td>0.028767</td>\n",
       "      <td>2.997260</td>\n",
       "      <td>0.683562</td>\n",
       "      <td>1.394521</td>\n",
       "      <td>20.319259</td>\n",
       "      <td>23.726322</td>\n",
       "      <td>62.765175</td>\n",
       "      <td>12.763620</td>\n",
       "      <td>849.249315</td>\n",
       "      <td>3658.757534</td>\n",
       "      <td>4508.006849</td>\n",
       "    </tr>\n",
       "    <tr>\n",
       "      <th>std</th>\n",
       "      <td>210.877136</td>\n",
       "      <td>1.110184</td>\n",
       "      <td>0.500343</td>\n",
       "      <td>3.450215</td>\n",
       "      <td>0.167266</td>\n",
       "      <td>2.006161</td>\n",
       "      <td>0.465405</td>\n",
       "      <td>0.544807</td>\n",
       "      <td>7.506729</td>\n",
       "      <td>8.150308</td>\n",
       "      <td>14.237589</td>\n",
       "      <td>5.195841</td>\n",
       "      <td>686.479875</td>\n",
       "      <td>1559.758728</td>\n",
       "      <td>1936.011647</td>\n",
       "    </tr>\n",
       "    <tr>\n",
       "      <th>min</th>\n",
       "      <td>1.000000</td>\n",
       "      <td>1.000000</td>\n",
       "      <td>0.000000</td>\n",
       "      <td>1.000000</td>\n",
       "      <td>0.000000</td>\n",
       "      <td>0.000000</td>\n",
       "      <td>0.000000</td>\n",
       "      <td>1.000000</td>\n",
       "      <td>2.424346</td>\n",
       "      <td>3.953480</td>\n",
       "      <td>0.000000</td>\n",
       "      <td>1.500244</td>\n",
       "      <td>2.000000</td>\n",
       "      <td>20.000000</td>\n",
       "      <td>22.000000</td>\n",
       "    </tr>\n",
       "    <tr>\n",
       "      <th>25%</th>\n",
       "      <td>183.250000</td>\n",
       "      <td>2.000000</td>\n",
       "      <td>0.000000</td>\n",
       "      <td>4.000000</td>\n",
       "      <td>0.000000</td>\n",
       "      <td>1.000000</td>\n",
       "      <td>0.000000</td>\n",
       "      <td>1.000000</td>\n",
       "      <td>13.811885</td>\n",
       "      <td>16.889713</td>\n",
       "      <td>52.000000</td>\n",
       "      <td>9.041650</td>\n",
       "      <td>316.250000</td>\n",
       "      <td>2502.250000</td>\n",
       "      <td>3169.750000</td>\n",
       "    </tr>\n",
       "    <tr>\n",
       "      <th>50%</th>\n",
       "      <td>365.500000</td>\n",
       "      <td>3.000000</td>\n",
       "      <td>0.500000</td>\n",
       "      <td>7.000000</td>\n",
       "      <td>0.000000</td>\n",
       "      <td>3.000000</td>\n",
       "      <td>1.000000</td>\n",
       "      <td>1.000000</td>\n",
       "      <td>20.465826</td>\n",
       "      <td>24.368225</td>\n",
       "      <td>62.625000</td>\n",
       "      <td>12.125325</td>\n",
       "      <td>717.000000</td>\n",
       "      <td>3664.500000</td>\n",
       "      <td>4548.500000</td>\n",
       "    </tr>\n",
       "    <tr>\n",
       "      <th>75%</th>\n",
       "      <td>547.750000</td>\n",
       "      <td>3.000000</td>\n",
       "      <td>1.000000</td>\n",
       "      <td>10.000000</td>\n",
       "      <td>0.000000</td>\n",
       "      <td>5.000000</td>\n",
       "      <td>1.000000</td>\n",
       "      <td>2.000000</td>\n",
       "      <td>26.880615</td>\n",
       "      <td>30.445775</td>\n",
       "      <td>72.989575</td>\n",
       "      <td>15.625589</td>\n",
       "      <td>1096.500000</td>\n",
       "      <td>4783.250000</td>\n",
       "      <td>5966.000000</td>\n",
       "    </tr>\n",
       "    <tr>\n",
       "      <th>max</th>\n",
       "      <td>730.000000</td>\n",
       "      <td>4.000000</td>\n",
       "      <td>1.000000</td>\n",
       "      <td>12.000000</td>\n",
       "      <td>1.000000</td>\n",
       "      <td>6.000000</td>\n",
       "      <td>1.000000</td>\n",
       "      <td>3.000000</td>\n",
       "      <td>35.328347</td>\n",
       "      <td>42.044800</td>\n",
       "      <td>97.250000</td>\n",
       "      <td>34.000021</td>\n",
       "      <td>3410.000000</td>\n",
       "      <td>6946.000000</td>\n",
       "      <td>8714.000000</td>\n",
       "    </tr>\n",
       "  </tbody>\n",
       "</table>\n",
       "</div>"
      ],
      "text/plain": [
       "          instant      season          yr        mnth     holiday     weekday  \\\n",
       "count  730.000000  730.000000  730.000000  730.000000  730.000000  730.000000   \n",
       "mean   365.500000    2.498630    0.500000    6.526027    0.028767    2.997260   \n",
       "std    210.877136    1.110184    0.500343    3.450215    0.167266    2.006161   \n",
       "min      1.000000    1.000000    0.000000    1.000000    0.000000    0.000000   \n",
       "25%    183.250000    2.000000    0.000000    4.000000    0.000000    1.000000   \n",
       "50%    365.500000    3.000000    0.500000    7.000000    0.000000    3.000000   \n",
       "75%    547.750000    3.000000    1.000000   10.000000    0.000000    5.000000   \n",
       "max    730.000000    4.000000    1.000000   12.000000    1.000000    6.000000   \n",
       "\n",
       "       workingday  weathersit        temp       atemp         hum   windspeed  \\\n",
       "count  730.000000  730.000000  730.000000  730.000000  730.000000  730.000000   \n",
       "mean     0.683562    1.394521   20.319259   23.726322   62.765175   12.763620   \n",
       "std      0.465405    0.544807    7.506729    8.150308   14.237589    5.195841   \n",
       "min      0.000000    1.000000    2.424346    3.953480    0.000000    1.500244   \n",
       "25%      0.000000    1.000000   13.811885   16.889713   52.000000    9.041650   \n",
       "50%      1.000000    1.000000   20.465826   24.368225   62.625000   12.125325   \n",
       "75%      1.000000    2.000000   26.880615   30.445775   72.989575   15.625589   \n",
       "max      1.000000    3.000000   35.328347   42.044800   97.250000   34.000021   \n",
       "\n",
       "            casual   registered          cnt  \n",
       "count   730.000000   730.000000   730.000000  \n",
       "mean    849.249315  3658.757534  4508.006849  \n",
       "std     686.479875  1559.758728  1936.011647  \n",
       "min       2.000000    20.000000    22.000000  \n",
       "25%     316.250000  2502.250000  3169.750000  \n",
       "50%     717.000000  3664.500000  4548.500000  \n",
       "75%    1096.500000  4783.250000  5966.000000  \n",
       "max    3410.000000  6946.000000  8714.000000  "
      ]
     },
     "execution_count": 420,
     "metadata": {},
     "output_type": "execute_result"
    }
   ],
   "source": [
    "# decribe dataframe df1\n",
    "df1.describe()"
   ]
  },
  {
   "cell_type": "code",
   "execution_count": 421,
   "id": "93203cb7",
   "metadata": {},
   "outputs": [
    {
     "data": {
      "text/plain": [
       "instant       0\n",
       "dteday        0\n",
       "season        0\n",
       "yr            0\n",
       "mnth          0\n",
       "holiday       0\n",
       "weekday       0\n",
       "workingday    0\n",
       "weathersit    0\n",
       "temp          0\n",
       "atemp         0\n",
       "hum           0\n",
       "windspeed     0\n",
       "casual        0\n",
       "registered    0\n",
       "cnt           0\n",
       "dtype: int64"
      ]
     },
     "execution_count": 421,
     "metadata": {},
     "output_type": "execute_result"
    }
   ],
   "source": [
    "# checking for null values in the dataset\n",
    "df1.isnull().sum()"
   ]
  },
  {
   "cell_type": "code",
   "execution_count": 422,
   "id": "e4ef71e4",
   "metadata": {},
   "outputs": [
    {
     "data": {
      "text/html": [
       "<div>\n",
       "<style scoped>\n",
       "    .dataframe tbody tr th:only-of-type {\n",
       "        vertical-align: middle;\n",
       "    }\n",
       "\n",
       "    .dataframe tbody tr th {\n",
       "        vertical-align: top;\n",
       "    }\n",
       "\n",
       "    .dataframe thead th {\n",
       "        text-align: right;\n",
       "    }\n",
       "</style>\n",
       "<table border=\"1\" class=\"dataframe\">\n",
       "  <thead>\n",
       "    <tr style=\"text-align: right;\">\n",
       "      <th></th>\n",
       "      <th>instant</th>\n",
       "      <th>dteday</th>\n",
       "      <th>season</th>\n",
       "      <th>Year</th>\n",
       "      <th>month</th>\n",
       "      <th>holiday</th>\n",
       "      <th>weekday</th>\n",
       "      <th>workingday</th>\n",
       "      <th>weathersit</th>\n",
       "      <th>temp</th>\n",
       "      <th>atemp</th>\n",
       "      <th>humidity</th>\n",
       "      <th>windspeed</th>\n",
       "      <th>casual</th>\n",
       "      <th>registered</th>\n",
       "      <th>Rentals</th>\n",
       "    </tr>\n",
       "  </thead>\n",
       "  <tbody>\n",
       "    <tr>\n",
       "      <th>0</th>\n",
       "      <td>1</td>\n",
       "      <td>01-01-2018</td>\n",
       "      <td>1</td>\n",
       "      <td>0</td>\n",
       "      <td>1</td>\n",
       "      <td>0</td>\n",
       "      <td>6</td>\n",
       "      <td>0</td>\n",
       "      <td>2</td>\n",
       "      <td>14.110847</td>\n",
       "      <td>18.18125</td>\n",
       "      <td>80.5833</td>\n",
       "      <td>10.749882</td>\n",
       "      <td>331</td>\n",
       "      <td>654</td>\n",
       "      <td>985</td>\n",
       "    </tr>\n",
       "    <tr>\n",
       "      <th>1</th>\n",
       "      <td>2</td>\n",
       "      <td>02-01-2018</td>\n",
       "      <td>1</td>\n",
       "      <td>0</td>\n",
       "      <td>1</td>\n",
       "      <td>0</td>\n",
       "      <td>0</td>\n",
       "      <td>0</td>\n",
       "      <td>2</td>\n",
       "      <td>14.902598</td>\n",
       "      <td>17.68695</td>\n",
       "      <td>69.6087</td>\n",
       "      <td>16.652113</td>\n",
       "      <td>131</td>\n",
       "      <td>670</td>\n",
       "      <td>801</td>\n",
       "    </tr>\n",
       "    <tr>\n",
       "      <th>2</th>\n",
       "      <td>3</td>\n",
       "      <td>03-01-2018</td>\n",
       "      <td>1</td>\n",
       "      <td>0</td>\n",
       "      <td>1</td>\n",
       "      <td>0</td>\n",
       "      <td>1</td>\n",
       "      <td>1</td>\n",
       "      <td>1</td>\n",
       "      <td>8.050924</td>\n",
       "      <td>9.47025</td>\n",
       "      <td>43.7273</td>\n",
       "      <td>16.636703</td>\n",
       "      <td>120</td>\n",
       "      <td>1229</td>\n",
       "      <td>1349</td>\n",
       "    </tr>\n",
       "    <tr>\n",
       "      <th>3</th>\n",
       "      <td>4</td>\n",
       "      <td>04-01-2018</td>\n",
       "      <td>1</td>\n",
       "      <td>0</td>\n",
       "      <td>1</td>\n",
       "      <td>0</td>\n",
       "      <td>2</td>\n",
       "      <td>1</td>\n",
       "      <td>1</td>\n",
       "      <td>8.200000</td>\n",
       "      <td>10.60610</td>\n",
       "      <td>59.0435</td>\n",
       "      <td>10.739832</td>\n",
       "      <td>108</td>\n",
       "      <td>1454</td>\n",
       "      <td>1562</td>\n",
       "    </tr>\n",
       "    <tr>\n",
       "      <th>4</th>\n",
       "      <td>5</td>\n",
       "      <td>05-01-2018</td>\n",
       "      <td>1</td>\n",
       "      <td>0</td>\n",
       "      <td>1</td>\n",
       "      <td>0</td>\n",
       "      <td>3</td>\n",
       "      <td>1</td>\n",
       "      <td>1</td>\n",
       "      <td>9.305237</td>\n",
       "      <td>11.46350</td>\n",
       "      <td>43.6957</td>\n",
       "      <td>12.522300</td>\n",
       "      <td>82</td>\n",
       "      <td>1518</td>\n",
       "      <td>1600</td>\n",
       "    </tr>\n",
       "  </tbody>\n",
       "</table>\n",
       "</div>"
      ],
      "text/plain": [
       "   instant      dteday  season  Year  month  holiday  weekday  workingday  \\\n",
       "0        1  01-01-2018       1     0      1        0        6           0   \n",
       "1        2  02-01-2018       1     0      1        0        0           0   \n",
       "2        3  03-01-2018       1     0      1        0        1           1   \n",
       "3        4  04-01-2018       1     0      1        0        2           1   \n",
       "4        5  05-01-2018       1     0      1        0        3           1   \n",
       "\n",
       "   weathersit       temp     atemp  humidity  windspeed  casual  registered  \\\n",
       "0           2  14.110847  18.18125   80.5833  10.749882     331         654   \n",
       "1           2  14.902598  17.68695   69.6087  16.652113     131         670   \n",
       "2           1   8.050924   9.47025   43.7273  16.636703     120        1229   \n",
       "3           1   8.200000  10.60610   59.0435  10.739832     108        1454   \n",
       "4           1   9.305237  11.46350   43.6957  12.522300      82        1518   \n",
       "\n",
       "   Rentals  \n",
       "0      985  \n",
       "1      801  \n",
       "2     1349  \n",
       "3     1562  \n",
       "4     1600  "
      ]
     },
     "execution_count": 422,
     "metadata": {},
     "output_type": "execute_result"
    }
   ],
   "source": [
    "#Renaming the columns with short names with full name\n",
    "df1.rename(columns = {'yr':'Year','mnth':'month','hum':'humidity','cnt':'Rentals'}, inplace = True) \n",
    "df1.head()"
   ]
  },
  {
   "cell_type": "code",
   "execution_count": 423,
   "id": "33282f76",
   "metadata": {},
   "outputs": [
    {
     "data": {
      "text/html": [
       "<div>\n",
       "<style scoped>\n",
       "    .dataframe tbody tr th:only-of-type {\n",
       "        vertical-align: middle;\n",
       "    }\n",
       "\n",
       "    .dataframe tbody tr th {\n",
       "        vertical-align: top;\n",
       "    }\n",
       "\n",
       "    .dataframe thead th {\n",
       "        text-align: right;\n",
       "    }\n",
       "</style>\n",
       "<table border=\"1\" class=\"dataframe\">\n",
       "  <thead>\n",
       "    <tr style=\"text-align: right;\">\n",
       "      <th></th>\n",
       "      <th>instant</th>\n",
       "      <th>dteday</th>\n",
       "      <th>season</th>\n",
       "      <th>Year</th>\n",
       "      <th>month</th>\n",
       "      <th>holiday</th>\n",
       "      <th>weekday</th>\n",
       "      <th>workingday</th>\n",
       "      <th>weathersit</th>\n",
       "      <th>temp</th>\n",
       "      <th>atemp</th>\n",
       "      <th>humidity</th>\n",
       "      <th>windspeed</th>\n",
       "      <th>casual</th>\n",
       "      <th>registered</th>\n",
       "      <th>Rentals</th>\n",
       "    </tr>\n",
       "  </thead>\n",
       "  <tbody>\n",
       "    <tr>\n",
       "      <th>0</th>\n",
       "      <td>1</td>\n",
       "      <td>01-01-2018</td>\n",
       "      <td>spring</td>\n",
       "      <td>0</td>\n",
       "      <td>Jan</td>\n",
       "      <td>0</td>\n",
       "      <td>Sat</td>\n",
       "      <td>0</td>\n",
       "      <td>Mist + Cloudy</td>\n",
       "      <td>14.110847</td>\n",
       "      <td>18.18125</td>\n",
       "      <td>80.5833</td>\n",
       "      <td>10.749882</td>\n",
       "      <td>331</td>\n",
       "      <td>654</td>\n",
       "      <td>985</td>\n",
       "    </tr>\n",
       "    <tr>\n",
       "      <th>1</th>\n",
       "      <td>2</td>\n",
       "      <td>02-01-2018</td>\n",
       "      <td>spring</td>\n",
       "      <td>0</td>\n",
       "      <td>Jan</td>\n",
       "      <td>0</td>\n",
       "      <td>Sun</td>\n",
       "      <td>0</td>\n",
       "      <td>Mist + Cloudy</td>\n",
       "      <td>14.902598</td>\n",
       "      <td>17.68695</td>\n",
       "      <td>69.6087</td>\n",
       "      <td>16.652113</td>\n",
       "      <td>131</td>\n",
       "      <td>670</td>\n",
       "      <td>801</td>\n",
       "    </tr>\n",
       "    <tr>\n",
       "      <th>2</th>\n",
       "      <td>3</td>\n",
       "      <td>03-01-2018</td>\n",
       "      <td>spring</td>\n",
       "      <td>0</td>\n",
       "      <td>Jan</td>\n",
       "      <td>0</td>\n",
       "      <td>Mon</td>\n",
       "      <td>1</td>\n",
       "      <td>Clear</td>\n",
       "      <td>8.050924</td>\n",
       "      <td>9.47025</td>\n",
       "      <td>43.7273</td>\n",
       "      <td>16.636703</td>\n",
       "      <td>120</td>\n",
       "      <td>1229</td>\n",
       "      <td>1349</td>\n",
       "    </tr>\n",
       "    <tr>\n",
       "      <th>3</th>\n",
       "      <td>4</td>\n",
       "      <td>04-01-2018</td>\n",
       "      <td>spring</td>\n",
       "      <td>0</td>\n",
       "      <td>Jan</td>\n",
       "      <td>0</td>\n",
       "      <td>Tue</td>\n",
       "      <td>1</td>\n",
       "      <td>Clear</td>\n",
       "      <td>8.200000</td>\n",
       "      <td>10.60610</td>\n",
       "      <td>59.0435</td>\n",
       "      <td>10.739832</td>\n",
       "      <td>108</td>\n",
       "      <td>1454</td>\n",
       "      <td>1562</td>\n",
       "    </tr>\n",
       "    <tr>\n",
       "      <th>4</th>\n",
       "      <td>5</td>\n",
       "      <td>05-01-2018</td>\n",
       "      <td>spring</td>\n",
       "      <td>0</td>\n",
       "      <td>Jan</td>\n",
       "      <td>0</td>\n",
       "      <td>Wed</td>\n",
       "      <td>1</td>\n",
       "      <td>Clear</td>\n",
       "      <td>9.305237</td>\n",
       "      <td>11.46350</td>\n",
       "      <td>43.6957</td>\n",
       "      <td>12.522300</td>\n",
       "      <td>82</td>\n",
       "      <td>1518</td>\n",
       "      <td>1600</td>\n",
       "    </tr>\n",
       "  </tbody>\n",
       "</table>\n",
       "</div>"
      ],
      "text/plain": [
       "   instant      dteday  season  Year month  holiday weekday  workingday  \\\n",
       "0        1  01-01-2018  spring     0   Jan        0     Sat           0   \n",
       "1        2  02-01-2018  spring     0   Jan        0     Sun           0   \n",
       "2        3  03-01-2018  spring     0   Jan        0     Mon           1   \n",
       "3        4  04-01-2018  spring     0   Jan        0     Tue           1   \n",
       "4        5  05-01-2018  spring     0   Jan        0     Wed           1   \n",
       "\n",
       "      weathersit       temp     atemp  humidity  windspeed  casual  \\\n",
       "0  Mist + Cloudy  14.110847  18.18125   80.5833  10.749882     331   \n",
       "1  Mist + Cloudy  14.902598  17.68695   69.6087  16.652113     131   \n",
       "2          Clear   8.050924   9.47025   43.7273  16.636703     120   \n",
       "3          Clear   8.200000  10.60610   59.0435  10.739832     108   \n",
       "4          Clear   9.305237  11.46350   43.6957  12.522300      82   \n",
       "\n",
       "   registered  Rentals  \n",
       "0         654      985  \n",
       "1         670      801  \n",
       "2        1229     1349  \n",
       "3        1454     1562  \n",
       "4        1518     1600  "
      ]
     },
     "execution_count": 423,
     "metadata": {},
     "output_type": "execute_result"
    }
   ],
   "source": [
    "# Mapping variables season, month, weathersit, weekday\n",
    "\n",
    "df1['season']=df1.season.map({1: 'spring', 2: 'summer',3:'fall', 4:'winter' })\n",
    "df1['month']=df1.month.map({1:'Jan',2:'Feb',3:'Mar',4:'Apr',5:'May',6:'June',7:'July',8:'Aug',9:'Sep',10:'Oct',11:'Nov',12:'Dec'})\n",
    "df1['weathersit']=df1.weathersit.map({1: 'Clear',2:'Mist + Cloudy',3:'Light Snow',4:'Snow + Fog'})\n",
    "df1['weekday']=df1.weekday.map({0:'Sun',1:'Mon',2:'Tue',3:'Wed',4:'Thu',5:'Fri',6:'Sat'})\n",
    "\n",
    "df1.head()"
   ]
  },
  {
   "cell_type": "markdown",
   "id": "20d560f5",
   "metadata": {},
   "source": [
    "### Removing redundant & unwanted columns\n",
    "\n",
    "Based on checking data and data dictionary, following variables can be removed from further analysisis: \n",
    "\n",
    "1) **instant** : Its only an index value\n",
    "\n",
    "2) **dteday** : This has the date, Since we already have seperate columns for 'year' & 'month',hence, we could live without this column.\n",
    "\n",
    "3) **casual & registered** : Both these columns contains the count of bike booked by different categories of customers. Since our objective is to find the total count of bikes and not by specific category, we will ignore these two columns. More over, we have created a new variable to have the ratio of these customer types.\n"
   ]
  },
  {
   "cell_type": "code",
   "execution_count": 424,
   "id": "f9a279a7",
   "metadata": {},
   "outputs": [
    {
     "data": {
      "text/html": [
       "<div>\n",
       "<style scoped>\n",
       "    .dataframe tbody tr th:only-of-type {\n",
       "        vertical-align: middle;\n",
       "    }\n",
       "\n",
       "    .dataframe tbody tr th {\n",
       "        vertical-align: top;\n",
       "    }\n",
       "\n",
       "    .dataframe thead th {\n",
       "        text-align: right;\n",
       "    }\n",
       "</style>\n",
       "<table border=\"1\" class=\"dataframe\">\n",
       "  <thead>\n",
       "    <tr style=\"text-align: right;\">\n",
       "      <th></th>\n",
       "      <th>season</th>\n",
       "      <th>Year</th>\n",
       "      <th>month</th>\n",
       "      <th>holiday</th>\n",
       "      <th>weekday</th>\n",
       "      <th>workingday</th>\n",
       "      <th>weathersit</th>\n",
       "      <th>temp</th>\n",
       "      <th>atemp</th>\n",
       "      <th>humidity</th>\n",
       "      <th>windspeed</th>\n",
       "      <th>Rentals</th>\n",
       "    </tr>\n",
       "  </thead>\n",
       "  <tbody>\n",
       "    <tr>\n",
       "      <th>0</th>\n",
       "      <td>spring</td>\n",
       "      <td>0</td>\n",
       "      <td>Jan</td>\n",
       "      <td>0</td>\n",
       "      <td>Sat</td>\n",
       "      <td>0</td>\n",
       "      <td>Mist + Cloudy</td>\n",
       "      <td>14.110847</td>\n",
       "      <td>18.18125</td>\n",
       "      <td>80.5833</td>\n",
       "      <td>10.749882</td>\n",
       "      <td>985</td>\n",
       "    </tr>\n",
       "    <tr>\n",
       "      <th>1</th>\n",
       "      <td>spring</td>\n",
       "      <td>0</td>\n",
       "      <td>Jan</td>\n",
       "      <td>0</td>\n",
       "      <td>Sun</td>\n",
       "      <td>0</td>\n",
       "      <td>Mist + Cloudy</td>\n",
       "      <td>14.902598</td>\n",
       "      <td>17.68695</td>\n",
       "      <td>69.6087</td>\n",
       "      <td>16.652113</td>\n",
       "      <td>801</td>\n",
       "    </tr>\n",
       "    <tr>\n",
       "      <th>2</th>\n",
       "      <td>spring</td>\n",
       "      <td>0</td>\n",
       "      <td>Jan</td>\n",
       "      <td>0</td>\n",
       "      <td>Mon</td>\n",
       "      <td>1</td>\n",
       "      <td>Clear</td>\n",
       "      <td>8.050924</td>\n",
       "      <td>9.47025</td>\n",
       "      <td>43.7273</td>\n",
       "      <td>16.636703</td>\n",
       "      <td>1349</td>\n",
       "    </tr>\n",
       "    <tr>\n",
       "      <th>3</th>\n",
       "      <td>spring</td>\n",
       "      <td>0</td>\n",
       "      <td>Jan</td>\n",
       "      <td>0</td>\n",
       "      <td>Tue</td>\n",
       "      <td>1</td>\n",
       "      <td>Clear</td>\n",
       "      <td>8.200000</td>\n",
       "      <td>10.60610</td>\n",
       "      <td>59.0435</td>\n",
       "      <td>10.739832</td>\n",
       "      <td>1562</td>\n",
       "    </tr>\n",
       "    <tr>\n",
       "      <th>4</th>\n",
       "      <td>spring</td>\n",
       "      <td>0</td>\n",
       "      <td>Jan</td>\n",
       "      <td>0</td>\n",
       "      <td>Wed</td>\n",
       "      <td>1</td>\n",
       "      <td>Clear</td>\n",
       "      <td>9.305237</td>\n",
       "      <td>11.46350</td>\n",
       "      <td>43.6957</td>\n",
       "      <td>12.522300</td>\n",
       "      <td>1600</td>\n",
       "    </tr>\n",
       "  </tbody>\n",
       "</table>\n",
       "</div>"
      ],
      "text/plain": [
       "   season  Year month  holiday weekday  workingday     weathersit       temp  \\\n",
       "0  spring     0   Jan        0     Sat           0  Mist + Cloudy  14.110847   \n",
       "1  spring     0   Jan        0     Sun           0  Mist + Cloudy  14.902598   \n",
       "2  spring     0   Jan        0     Mon           1          Clear   8.050924   \n",
       "3  spring     0   Jan        0     Tue           1          Clear   8.200000   \n",
       "4  spring     0   Jan        0     Wed           1          Clear   9.305237   \n",
       "\n",
       "      atemp  humidity  windspeed  Rentals  \n",
       "0  18.18125   80.5833  10.749882      985  \n",
       "1  17.68695   69.6087  16.652113      801  \n",
       "2   9.47025   43.7273  16.636703     1349  \n",
       "3  10.60610   59.0435  10.739832     1562  \n",
       "4  11.46350   43.6957  12.522300     1600  "
      ]
     },
     "execution_count": 424,
     "metadata": {},
     "output_type": "execute_result"
    }
   ],
   "source": [
    "df1.drop(['instant','dteday','casual','registered'],axis=1,inplace=True)\n",
    "df1.head()"
   ]
  },
  {
   "cell_type": "markdown",
   "id": "ae1a2c2b",
   "metadata": {},
   "source": [
    "# Univariate Analysis"
   ]
  },
  {
   "cell_type": "markdown",
   "id": "ac2e1e70",
   "metadata": {},
   "source": [
    "#### Visualizing Binary Columns "
   ]
  },
  {
   "cell_type": "code",
   "execution_count": 425,
   "id": "491ec4f7",
   "metadata": {},
   "outputs": [
    {
     "data": {
      "image/png": "[encoded data removed]",
      "text/plain": [
       "<Figure size 1152x1080 with 3 Axes>"
      ]
     },
     "metadata": {},
     "output_type": "display_data"
    }
   ],
   "source": [
    "plt.figure(figsize = [16,15])\n",
    "plt.subplot(131)\n",
    "df1['Year'].value_counts(normalize = True).plot.pie(explode=(0.05, 0), autopct = \"%1.0f%%\", startangle=10)\n",
    "plt.title('Year',fontsize=30)\n",
    "plt.subplot(132) \n",
    "df1['holiday'].value_counts(normalize = True).plot.pie(explode=(0.4, 0), autopct = \"%1.0f%%\", startangle=110)\n",
    "plt.title('holiday',fontsize=30)\n",
    "plt.subplot(133)\n",
    "df1['workingday'].value_counts(normalize = True).plot.pie(explode=(0.05, 0),autopct = \"%1.0f%%\", startangle=10)\n",
    "plt.title('workingday',fontsize=30)\n",
    "plt.show()"
   ]
  },
  {
   "cell_type": "markdown",
   "id": "8cc12b6e",
   "metadata": {},
   "source": [
    "* **Observation**:\n",
    "    - 'Year' is expected to be 50%-50% daily records of bike usage. \n",
    "    - Significantly less number of holidays(1) as compared to non-holidays(0) hence bike usage is more in 0. \n",
    "    - The same case applies to 'workingday' due to higher number of days vs non-working days."
   ]
  },
  {
   "cell_type": "markdown",
   "id": "4177954d",
   "metadata": {},
   "source": [
    "#### Visualizing Categorical Variables"
   ]
  },
  {
   "cell_type": "code",
   "execution_count": 426,
   "id": "0c483692",
   "metadata": {},
   "outputs": [
    {
     "data": {
      "image/png": "[encoded data removed]",
      "text/plain": [
       "<Figure size 1440x288 with 4 Axes>"
      ]
     },
     "metadata": {
      "needs_background": "light"
     },
     "output_type": "display_data"
    }
   ],
   "source": [
    "plt.figure(figsize = [20,4])\n",
    "plt.subplot(1,4,1)\n",
    "sns.countplot(data = df1, x = 'weathersit')\n",
    "plt.subplot(1,4,2)\n",
    "sns.countplot(data = df1, x = 'season')\n",
    "plt.subplot(1,4,3)\n",
    "sns.countplot(data = df1, x = 'weekday')\n",
    "plt.subplot(1,4,4)\n",
    "plt.xticks(rotation = 90)\n",
    "sns.countplot(data = df1, x = 'month')\n",
    "plt.show()"
   ]
  },
  {
   "cell_type": "markdown",
   "id": "73afab3e",
   "metadata": {},
   "source": [
    "* By observing the plots we can came to conclusion that\n",
    "    - When 'weathersit' is Clear, Few clouds, Partly cloudy the bikes are usage are more. \n",
    "    - The rest of the variables are shows very close values."
   ]
  },
  {
   "cell_type": "markdown",
   "id": "4f4bd584",
   "metadata": {},
   "source": [
    "# Bivariate Analysis"
   ]
  },
  {
   "cell_type": "markdown",
   "id": "4204f032",
   "metadata": {},
   "source": [
    "#### Visualizing Binary Variables vs 'Rentals'"
   ]
  },
  {
   "cell_type": "code",
   "execution_count": 427,
   "id": "3f768204",
   "metadata": {},
   "outputs": [
    {
     "data": {
      "image/png": "[encoded data removed]",
      "text/plain": [
       "<Figure size 1440x432 with 3 Axes>"
      ]
     },
     "metadata": {
      "needs_background": "light"
     },
     "output_type": "display_data"
    }
   ],
   "source": [
    "plt.figure(figsize = [20,6])\n",
    "plt.subplot(1,3,1)\n",
    "sns.barplot('Year', 'Rentals', data = df1 )\n",
    "plt.subplot(1,3,2)\n",
    "sns.barplot('holiday', 'Rentals', data = df1)\n",
    "plt.subplot(1,3,3)\n",
    "sns.barplot('workingday', 'Rentals', data = df1)\n",
    "plt.show()"
   ]
  },
  {
   "cell_type": "markdown",
   "id": "51da46f5",
   "metadata": {},
   "source": [
    "* By observing the plots we can came to conclusion that\n",
    "    - There is a increase in number of bike users from year 2018(0) to year 2019(1).\n",
    "    - There are more users during holidays(0) as compared to Non holidays(1).\n",
    "    - There is a very little discrepancy between users of BoomBike on a working day(1) and non-working day(0)."
   ]
  },
  {
   "cell_type": "markdown",
   "id": "6d33b027",
   "metadata": {},
   "source": [
    "#### Visualizing Catagorical Variables Variables vs 'Rentals' "
   ]
  },
  {
   "cell_type": "code",
   "execution_count": 428,
   "id": "53e73326",
   "metadata": {},
   "outputs": [
    {
     "data": {
      "image/png": "[encoded data removed]",
      "text/plain": [
       "<Figure size 1440x1440 with 6 Axes>"
      ]
     },
     "metadata": {
      "needs_background": "light"
     },
     "output_type": "display_data"
    }
   ],
   "source": [
    "plt.figure(figsize=(20,20))\n",
    "plt.subplot(3,2,1)\n",
    "sns.boxplot(x = 'season',y='Rentals',data=df1)\n",
    "plt.subplot(3,2,2)\n",
    "sns.boxplot(x = 'month',y='Rentals',data=df1)\n",
    "plt.subplot(3,2,3)\n",
    "sns.boxplot(x = 'weathersit',y='Rentals',data=df1)\n",
    "plt.subplot(3,2,4)\n",
    "sns.boxplot(x = 'workingday',y='Rentals',data=df1)\n",
    "plt.subplot(3,2,5)\n",
    "sns.boxplot(x = 'holiday',y='Rentals',data=df1)\n",
    "plt.subplot(3,2,6)\n",
    "sns.boxplot(x = 'weekday',y='Rentals',data=df1)\n",
    "plt.show()"
   ]
  },
  {
   "cell_type": "markdown",
   "id": "f26b5644",
   "metadata": {},
   "source": [
    "**Insights**: <br>\n",
    "\n",
    "\n",
    "* **season**: Higest booking happening in season fall with a median of over 5000 booking. This was followed by season summer & season winter of total booking. This indicates, season can be a good predictor for the dependent variable.<br>\n",
    "\n",
    "* **month**: Bike booking is quite high in the months May,Jun,Jul,Aug & Sept with a median of over 4000 booking per month. This indicates, mnth has some trend for bookings and can be a good predictor for the dependent variable.<br>\n",
    "\n",
    "* **weathersit**: Almost 67% of the bike booking were happening during ‘weathersit 'Clear' with a median of close to 5000 booking. This was followed by weathersit 'Mist cloudy'. This indicates, weathersit does show some trend towards the bike bookings and can be a good predictor for the dependent variable.<br>\n",
    "\n",
    "* **holiday**: The bike booking were happening mostly when it is not a holiday which indicates the data could be biased. We  should consider not using it as a predictor for the dependent variable.<br>\n",
    "\n",
    "* **weekday**: weekday variable shows very close trend. This variable can have some or no influence towards the predictor. I will let the model decide if this needs to be added or not.<br>\n",
    "\n",
    "* **workingday**: Median is quite close. Lets see how model decides about workingday<br>"
   ]
  },
  {
   "cell_type": "code",
   "execution_count": 429,
   "id": "8df68ae6",
   "metadata": {},
   "outputs": [
    {
     "data": {
      "image/png": "[encoded data removed]",
      "text/plain": [
       "<Figure size 720x432 with 2 Axes>"
      ]
     },
     "metadata": {
      "needs_background": "light"
     },
     "output_type": "display_data"
    }
   ],
   "source": [
    "# Let's check the correlation coefficients to see which variables are highly correlated.\n",
    "\n",
    "plt.figure(figsize = (10,6))\n",
    "sns.heatmap(df1.corr(), annot = True, cmap=\"Blues\")\n",
    "plt.show()"
   ]
  },
  {
   "cell_type": "markdown",
   "id": "88d3deaa",
   "metadata": {},
   "source": [
    "# Creating Dummy Variables"
   ]
  },
  {
   "cell_type": "code",
   "execution_count": 430,
   "id": "9e7db6be",
   "metadata": {},
   "outputs": [
    {
     "name": "stdout",
     "output_type": "stream",
     "text": [
      "<class 'pandas.core.frame.DataFrame'>\n",
      "RangeIndex: 730 entries, 0 to 729\n",
      "Data columns (total 30 columns):\n",
      " #   Column                    Non-Null Count  Dtype  \n",
      "---  ------                    --------------  -----  \n",
      " 0   Year                      730 non-null    int64  \n",
      " 1   holiday                   730 non-null    int64  \n",
      " 2   workingday                730 non-null    int64  \n",
      " 3   temp                      730 non-null    float64\n",
      " 4   atemp                     730 non-null    float64\n",
      " 5   humidity                  730 non-null    float64\n",
      " 6   windspeed                 730 non-null    float64\n",
      " 7   Rentals                   730 non-null    int64  \n",
      " 8   season_spring             730 non-null    uint8  \n",
      " 9   season_summer             730 non-null    uint8  \n",
      " 10  season_winter             730 non-null    uint8  \n",
      " 11  month_Aug                 730 non-null    uint8  \n",
      " 12  month_Dec                 730 non-null    uint8  \n",
      " 13  month_Feb                 730 non-null    uint8  \n",
      " 14  month_Jan                 730 non-null    uint8  \n",
      " 15  month_July                730 non-null    uint8  \n",
      " 16  month_June                730 non-null    uint8  \n",
      " 17  month_Mar                 730 non-null    uint8  \n",
      " 18  month_May                 730 non-null    uint8  \n",
      " 19  month_Nov                 730 non-null    uint8  \n",
      " 20  month_Oct                 730 non-null    uint8  \n",
      " 21  month_Sep                 730 non-null    uint8  \n",
      " 22  weekday_Mon               730 non-null    uint8  \n",
      " 23  weekday_Sat               730 non-null    uint8  \n",
      " 24  weekday_Sun               730 non-null    uint8  \n",
      " 25  weekday_Thu               730 non-null    uint8  \n",
      " 26  weekday_Tue               730 non-null    uint8  \n",
      " 27  weekday_Wed               730 non-null    uint8  \n",
      " 28  weathersit_Light Snow     730 non-null    uint8  \n",
      " 29  weathersit_Mist + Cloudy  730 non-null    uint8  \n",
      "dtypes: float64(4), int64(4), uint8(22)\n",
      "memory usage: 61.4 KB\n"
     ]
    }
   ],
   "source": [
    "bike_new = pd.get_dummies(df1,drop_first=True)\n",
    "bike_new.info()"
   ]
  },
  {
   "cell_type": "markdown",
   "id": "8de6fa76",
   "metadata": {},
   "source": [
    "# Splitting the data"
   ]
  },
  {
   "cell_type": "code",
   "execution_count": 431,
   "id": "45cb65f3",
   "metadata": {},
   "outputs": [],
   "source": [
    "import sklearn\n",
    "from sklearn.model_selection import train_test_split\n",
    "\n",
    "df_train, df_test = train_test_split(bike_new, train_size = 0.70, test_size = 0.30, random_state = 333)\n"
   ]
  },
  {
   "cell_type": "code",
   "execution_count": 432,
   "id": "84cc6ee4",
   "metadata": {},
   "outputs": [
    {
     "data": {
      "image/png": "[encoded data removed]",
      "text/plain": [
       "<Figure size 900x900 with 30 Axes>"
      ]
     },
     "metadata": {
      "needs_background": "light"
     },
     "output_type": "display_data"
    }
   ],
   "source": [
    "bike_num=df_train[[ 'temp', 'atemp', 'humidity', 'windspeed','Rentals']]\n",
    "sns.pairplot(bike_num, diag_kind='kde')\n",
    "plt.show()"
   ]
  },
  {
   "cell_type": "markdown",
   "id": "007d570f",
   "metadata": {},
   "source": [
    "# Rescaling the Features"
   ]
  },
  {
   "cell_type": "code",
   "execution_count": 433,
   "id": "1ba7293d",
   "metadata": {},
   "outputs": [],
   "source": [
    "from sklearn.preprocessing import MinMaxScaler\n",
    "\n",
    "scaler = MinMaxScaler()"
   ]
  },
  {
   "cell_type": "code",
   "execution_count": 434,
   "id": "39cbd13b",
   "metadata": {},
   "outputs": [],
   "source": [
    "# Apply scaler() to all the numeric variables\n",
    "\n",
    "num_vars = ['temp', 'atemp', 'humidity', 'windspeed','Rentals']\n",
    "\n",
    "df_train[num_vars] = scaler.fit_transform(df_train[num_vars])"
   ]
  },
  {
   "cell_type": "code",
   "execution_count": 435,
   "id": "bd2999b5",
   "metadata": {},
   "outputs": [
    {
     "data": {
      "text/html": [
       "<div>\n",
       "<style scoped>\n",
       "    .dataframe tbody tr th:only-of-type {\n",
       "        vertical-align: middle;\n",
       "    }\n",
       "\n",
       "    .dataframe tbody tr th {\n",
       "        vertical-align: top;\n",
       "    }\n",
       "\n",
       "    .dataframe thead th {\n",
       "        text-align: right;\n",
       "    }\n",
       "</style>\n",
       "<table border=\"1\" class=\"dataframe\">\n",
       "  <thead>\n",
       "    <tr style=\"text-align: right;\">\n",
       "      <th></th>\n",
       "      <th>Year</th>\n",
       "      <th>holiday</th>\n",
       "      <th>workingday</th>\n",
       "      <th>temp</th>\n",
       "      <th>atemp</th>\n",
       "      <th>humidity</th>\n",
       "      <th>windspeed</th>\n",
       "      <th>Rentals</th>\n",
       "      <th>season_spring</th>\n",
       "      <th>season_summer</th>\n",
       "      <th>...</th>\n",
       "      <th>month_Oct</th>\n",
       "      <th>month_Sep</th>\n",
       "      <th>weekday_Mon</th>\n",
       "      <th>weekday_Sat</th>\n",
       "      <th>weekday_Sun</th>\n",
       "      <th>weekday_Thu</th>\n",
       "      <th>weekday_Tue</th>\n",
       "      <th>weekday_Wed</th>\n",
       "      <th>weathersit_Light Snow</th>\n",
       "      <th>weathersit_Mist + Cloudy</th>\n",
       "    </tr>\n",
       "  </thead>\n",
       "  <tbody>\n",
       "    <tr>\n",
       "      <th>483</th>\n",
       "      <td>1</td>\n",
       "      <td>0</td>\n",
       "      <td>0</td>\n",
       "      <td>0.497426</td>\n",
       "      <td>0.487055</td>\n",
       "      <td>0.609956</td>\n",
       "      <td>0.194850</td>\n",
       "      <td>0.722734</td>\n",
       "      <td>0</td>\n",
       "      <td>1</td>\n",
       "      <td>...</td>\n",
       "      <td>0</td>\n",
       "      <td>0</td>\n",
       "      <td>0</td>\n",
       "      <td>0</td>\n",
       "      <td>1</td>\n",
       "      <td>0</td>\n",
       "      <td>0</td>\n",
       "      <td>0</td>\n",
       "      <td>0</td>\n",
       "      <td>0</td>\n",
       "    </tr>\n",
       "    <tr>\n",
       "      <th>650</th>\n",
       "      <td>1</td>\n",
       "      <td>0</td>\n",
       "      <td>0</td>\n",
       "      <td>0.416433</td>\n",
       "      <td>0.409971</td>\n",
       "      <td>0.513852</td>\n",
       "      <td>0.255118</td>\n",
       "      <td>0.815347</td>\n",
       "      <td>0</td>\n",
       "      <td>0</td>\n",
       "      <td>...</td>\n",
       "      <td>1</td>\n",
       "      <td>0</td>\n",
       "      <td>0</td>\n",
       "      <td>1</td>\n",
       "      <td>0</td>\n",
       "      <td>0</td>\n",
       "      <td>0</td>\n",
       "      <td>0</td>\n",
       "      <td>0</td>\n",
       "      <td>0</td>\n",
       "    </tr>\n",
       "    <tr>\n",
       "      <th>212</th>\n",
       "      <td>0</td>\n",
       "      <td>0</td>\n",
       "      <td>1</td>\n",
       "      <td>0.887856</td>\n",
       "      <td>0.819376</td>\n",
       "      <td>0.572294</td>\n",
       "      <td>0.276919</td>\n",
       "      <td>0.488265</td>\n",
       "      <td>0</td>\n",
       "      <td>0</td>\n",
       "      <td>...</td>\n",
       "      <td>0</td>\n",
       "      <td>0</td>\n",
       "      <td>1</td>\n",
       "      <td>0</td>\n",
       "      <td>0</td>\n",
       "      <td>0</td>\n",
       "      <td>0</td>\n",
       "      <td>0</td>\n",
       "      <td>0</td>\n",
       "      <td>0</td>\n",
       "    </tr>\n",
       "    <tr>\n",
       "      <th>714</th>\n",
       "      <td>1</td>\n",
       "      <td>0</td>\n",
       "      <td>0</td>\n",
       "      <td>0.378013</td>\n",
       "      <td>0.381804</td>\n",
       "      <td>0.871429</td>\n",
       "      <td>0.161523</td>\n",
       "      <td>0.433042</td>\n",
       "      <td>0</td>\n",
       "      <td>0</td>\n",
       "      <td>...</td>\n",
       "      <td>0</td>\n",
       "      <td>0</td>\n",
       "      <td>0</td>\n",
       "      <td>0</td>\n",
       "      <td>1</td>\n",
       "      <td>0</td>\n",
       "      <td>0</td>\n",
       "      <td>0</td>\n",
       "      <td>0</td>\n",
       "      <td>1</td>\n",
       "    </tr>\n",
       "    <tr>\n",
       "      <th>8</th>\n",
       "      <td>0</td>\n",
       "      <td>0</td>\n",
       "      <td>0</td>\n",
       "      <td>0.098690</td>\n",
       "      <td>0.048706</td>\n",
       "      <td>0.451083</td>\n",
       "      <td>0.700017</td>\n",
       "      <td>0.092039</td>\n",
       "      <td>1</td>\n",
       "      <td>0</td>\n",
       "      <td>...</td>\n",
       "      <td>0</td>\n",
       "      <td>0</td>\n",
       "      <td>0</td>\n",
       "      <td>0</td>\n",
       "      <td>1</td>\n",
       "      <td>0</td>\n",
       "      <td>0</td>\n",
       "      <td>0</td>\n",
       "      <td>0</td>\n",
       "      <td>0</td>\n",
       "    </tr>\n",
       "  </tbody>\n",
       "</table>\n",
       "<p>5 rows × 30 columns</p>\n",
       "</div>"
      ],
      "text/plain": [
       "     Year  holiday  workingday      temp     atemp  humidity  windspeed  \\\n",
       "483     1        0           0  0.497426  0.487055  0.609956   0.194850   \n",
       "650     1        0           0  0.416433  0.409971  0.513852   0.255118   \n",
       "212     0        0           1  0.887856  0.819376  0.572294   0.276919   \n",
       "714     1        0           0  0.378013  0.381804  0.871429   0.161523   \n",
       "8       0        0           0  0.098690  0.048706  0.451083   0.700017   \n",
       "\n",
       "      Rentals  season_spring  season_summer  ...  month_Oct  month_Sep  \\\n",
       "483  0.722734              0              1  ...          0          0   \n",
       "650  0.815347              0              0  ...          1          0   \n",
       "212  0.488265              0              0  ...          0          0   \n",
       "714  0.433042              0              0  ...          0          0   \n",
       "8    0.092039              1              0  ...          0          0   \n",
       "\n",
       "     weekday_Mon  weekday_Sat  weekday_Sun  weekday_Thu  weekday_Tue  \\\n",
       "483            0            0            1            0            0   \n",
       "650            0            1            0            0            0   \n",
       "212            1            0            0            0            0   \n",
       "714            0            0            1            0            0   \n",
       "8              0            0            1            0            0   \n",
       "\n",
       "     weekday_Wed  weathersit_Light Snow  weathersit_Mist + Cloudy  \n",
       "483            0                      0                         0  \n",
       "650            0                      0                         0  \n",
       "212            0                      0                         0  \n",
       "714            0                      0                         1  \n",
       "8              0                      0                         0  \n",
       "\n",
       "[5 rows x 30 columns]"
      ]
     },
     "execution_count": 435,
     "metadata": {},
     "output_type": "execute_result"
    }
   ],
   "source": [
    "# Checking values after scaling\n",
    "df_train.head()"
   ]
  },
  {
   "cell_type": "markdown",
   "id": "d6703dd9",
   "metadata": {},
   "source": [
    "# Building a Linear Model\n",
    "\n",
    "Dividing into X and Y sets for the model building"
   ]
  },
  {
   "cell_type": "code",
   "execution_count": 436,
   "id": "ede9c96e",
   "metadata": {},
   "outputs": [
    {
     "data": {
      "text/plain": [
       "483    0.722734\n",
       "650    0.815347\n",
       "212    0.488265\n",
       "714    0.433042\n",
       "8      0.092039\n",
       "         ...   \n",
       "467    0.733548\n",
       "444    0.714220\n",
       "46     0.240796\n",
       "374    0.411413\n",
       "366    0.221928\n",
       "Name: Rentals, Length: 510, dtype: float64"
      ]
     },
     "execution_count": 436,
     "metadata": {},
     "output_type": "execute_result"
    }
   ],
   "source": [
    "y_train = df_train.pop('Rentals')\n",
    "X_train = df_train\n",
    "y_train"
   ]
  },
  {
   "cell_type": "markdown",
   "id": "c1222b64",
   "metadata": {},
   "source": [
    "# RFE( Recursive feature elimination)"
   ]
  },
  {
   "cell_type": "code",
   "execution_count": 437,
   "id": "b97cca84",
   "metadata": {},
   "outputs": [],
   "source": [
    "# Importing RFE and LinearRegression\n",
    "from sklearn.feature_selection import RFE\n",
    "from sklearn.linear_model import LinearRegression\n",
    "\n",
    "# Running RFE with the output number of the variable equal to 15\n",
    "lm = LinearRegression()\n",
    "lm.fit(X_train, y_train)\n",
    "\n",
    "rfe = RFE(lm,n_features_to_select=15)             # running RFE\n",
    "rfe = rfe.fit(X_train, y_train)"
   ]
  },
  {
   "cell_type": "code",
   "execution_count": 438,
   "id": "ee98d9ef",
   "metadata": {},
   "outputs": [
    {
     "data": {
      "text/plain": [
       "[('Year', True, 1),\n",
       " ('holiday', True, 1),\n",
       " ('workingday', True, 1),\n",
       " ('temp', True, 1),\n",
       " ('atemp', True, 1),\n",
       " ('humidity', True, 1),\n",
       " ('windspeed', True, 1),\n",
       " ('season_spring', True, 1),\n",
       " ('season_summer', False, 11),\n",
       " ('season_winter', True, 1),\n",
       " ('month_Aug', False, 9),\n",
       " ('month_Dec', False, 5),\n",
       " ('month_Feb', False, 8),\n",
       " ('month_Jan', False, 7),\n",
       " ('month_July', True, 1),\n",
       " ('month_June', False, 13),\n",
       " ('month_Mar', True, 1),\n",
       " ('month_May', False, 4),\n",
       " ('month_Nov', False, 3),\n",
       " ('month_Oct', False, 12),\n",
       " ('month_Sep', True, 1),\n",
       " ('weekday_Mon', False, 6),\n",
       " ('weekday_Sat', True, 1),\n",
       " ('weekday_Sun', True, 1),\n",
       " ('weekday_Thu', False, 14),\n",
       " ('weekday_Tue', False, 10),\n",
       " ('weekday_Wed', False, 15),\n",
       " ('weathersit_Light Snow', True, 1),\n",
       " ('weathersit_Mist + Cloudy', False, 2)]"
      ]
     },
     "execution_count": 438,
     "metadata": {},
     "output_type": "execute_result"
    }
   ],
   "source": [
    "list(zip(X_train.columns,rfe.support_,rfe.ranking_))"
   ]
  },
  {
   "cell_type": "code",
   "execution_count": 439,
   "id": "5fc8b332",
   "metadata": {},
   "outputs": [
    {
     "data": {
      "text/plain": [
       "Index(['Year', 'holiday', 'workingday', 'temp', 'atemp', 'humidity',\n",
       "       'windspeed', 'season_spring', 'season_winter', 'month_July',\n",
       "       'month_Mar', 'month_Sep', 'weekday_Sat', 'weekday_Sun',\n",
       "       'weathersit_Light Snow'],\n",
       "      dtype='object')"
      ]
     },
     "execution_count": 439,
     "metadata": {},
     "output_type": "execute_result"
    }
   ],
   "source": [
    "col = X_train.columns[rfe.support_]\n",
    "col"
   ]
  },
  {
   "cell_type": "code",
   "execution_count": 440,
   "id": "26c77a57",
   "metadata": {},
   "outputs": [
    {
     "data": {
      "text/plain": [
       "Index(['season_summer', 'month_Aug', 'month_Dec', 'month_Feb', 'month_Jan',\n",
       "       'month_June', 'month_May', 'month_Nov', 'month_Oct', 'weekday_Mon',\n",
       "       'weekday_Thu', 'weekday_Tue', 'weekday_Wed',\n",
       "       'weathersit_Mist + Cloudy'],\n",
       "      dtype='object')"
      ]
     },
     "execution_count": 440,
     "metadata": {},
     "output_type": "execute_result"
    }
   ],
   "source": [
    "X_train.columns[~rfe.support_]"
   ]
  },
  {
   "cell_type": "code",
   "execution_count": 441,
   "id": "ad772321",
   "metadata": {},
   "outputs": [],
   "source": [
    "# Creating X_test dataframe with RFE selected variables\n",
    "X_train_rfe = X_train[col]"
   ]
  },
  {
   "cell_type": "markdown",
   "id": "12c09496",
   "metadata": {},
   "source": [
    "## Building Linear Model using STATS MODEL\n",
    "###  ***Model - 1***"
   ]
  },
  {
   "cell_type": "code",
   "execution_count": 442,
   "id": "62972518",
   "metadata": {},
   "outputs": [
    {
     "data": {
      "text/html": [
       "<div>\n",
       "<style scoped>\n",
       "    .dataframe tbody tr th:only-of-type {\n",
       "        vertical-align: middle;\n",
       "    }\n",
       "\n",
       "    .dataframe tbody tr th {\n",
       "        vertical-align: top;\n",
       "    }\n",
       "\n",
       "    .dataframe thead th {\n",
       "        text-align: right;\n",
       "    }\n",
       "</style>\n",
       "<table border=\"1\" class=\"dataframe\">\n",
       "  <thead>\n",
       "    <tr style=\"text-align: right;\">\n",
       "      <th></th>\n",
       "      <th>Features</th>\n",
       "      <th>VIF</th>\n",
       "    </tr>\n",
       "  </thead>\n",
       "  <tbody>\n",
       "    <tr>\n",
       "      <th>3</th>\n",
       "      <td>temp</td>\n",
       "      <td>53.37</td>\n",
       "    </tr>\n",
       "    <tr>\n",
       "      <th>4</th>\n",
       "      <td>atemp</td>\n",
       "      <td>51.69</td>\n",
       "    </tr>\n",
       "    <tr>\n",
       "      <th>2</th>\n",
       "      <td>workingday</td>\n",
       "      <td>41.54</td>\n",
       "    </tr>\n",
       "    <tr>\n",
       "      <th>12</th>\n",
       "      <td>weekday_Sat</td>\n",
       "      <td>9.82</td>\n",
       "    </tr>\n",
       "    <tr>\n",
       "      <th>13</th>\n",
       "      <td>weekday_Sun</td>\n",
       "      <td>9.46</td>\n",
       "    </tr>\n",
       "    <tr>\n",
       "      <th>7</th>\n",
       "      <td>season_spring</td>\n",
       "      <td>2.65</td>\n",
       "    </tr>\n",
       "    <tr>\n",
       "      <th>1</th>\n",
       "      <td>holiday</td>\n",
       "      <td>2.44</td>\n",
       "    </tr>\n",
       "    <tr>\n",
       "      <th>8</th>\n",
       "      <td>season_winter</td>\n",
       "      <td>1.78</td>\n",
       "    </tr>\n",
       "    <tr>\n",
       "      <th>9</th>\n",
       "      <td>month_July</td>\n",
       "      <td>1.31</td>\n",
       "    </tr>\n",
       "    <tr>\n",
       "      <th>5</th>\n",
       "      <td>humidity</td>\n",
       "      <td>1.27</td>\n",
       "    </tr>\n",
       "    <tr>\n",
       "      <th>6</th>\n",
       "      <td>windspeed</td>\n",
       "      <td>1.21</td>\n",
       "    </tr>\n",
       "    <tr>\n",
       "      <th>10</th>\n",
       "      <td>month_Mar</td>\n",
       "      <td>1.12</td>\n",
       "    </tr>\n",
       "    <tr>\n",
       "      <th>14</th>\n",
       "      <td>weathersit_Light Snow</td>\n",
       "      <td>1.11</td>\n",
       "    </tr>\n",
       "    <tr>\n",
       "      <th>11</th>\n",
       "      <td>month_Sep</td>\n",
       "      <td>1.10</td>\n",
       "    </tr>\n",
       "    <tr>\n",
       "      <th>0</th>\n",
       "      <td>Year</td>\n",
       "      <td>1.03</td>\n",
       "    </tr>\n",
       "  </tbody>\n",
       "</table>\n",
       "</div>"
      ],
      "text/plain": [
       "                 Features    VIF\n",
       "3                    temp  53.37\n",
       "4                   atemp  51.69\n",
       "2              workingday  41.54\n",
       "12            weekday_Sat   9.82\n",
       "13            weekday_Sun   9.46\n",
       "7           season_spring   2.65\n",
       "1                 holiday   2.44\n",
       "8           season_winter   1.78\n",
       "9              month_July   1.31\n",
       "5                humidity   1.27\n",
       "6               windspeed   1.21\n",
       "10              month_Mar   1.12\n",
       "14  weathersit_Light Snow   1.11\n",
       "11              month_Sep   1.10\n",
       "0                    Year   1.03"
      ]
     },
     "execution_count": 442,
     "metadata": {},
     "output_type": "execute_result"
    }
   ],
   "source": [
    "# Check for the VIF values of the feature variables. \n",
    "from statsmodels.stats.outliers_influence import variance_inflation_factor\n",
    "\n",
    "# Create a dataframe that will contain the names of all the feature variables and their respective VIFs\n",
    "vif = pd.DataFrame()\n",
    "vif['Features'] = X_train_rfe.columns\n",
    "vif['VIF'] = [variance_inflation_factor(X_train_rfe.values, i) for i in range(X_train_rfe.shape[1])]\n",
    "vif['VIF'] = round(vif['VIF'], 2)\n",
    "vif = vif.sort_values(by = \"VIF\", ascending = False)\n",
    "vif"
   ]
  },
  {
   "cell_type": "code",
   "execution_count": 443,
   "id": "14510585",
   "metadata": {},
   "outputs": [],
   "source": [
    "import statsmodels.api as sm\n",
    "\n",
    "# Add a constant\n",
    "X_train_lm1 = sm.add_constant(X_train_rfe)\n",
    "\n",
    "# Create a first fitted model\n",
    "lr1 = sm.OLS(y_train, X_train_lm1).fit()"
   ]
  },
  {
   "cell_type": "code",
   "execution_count": 444,
   "id": "04828438",
   "metadata": {},
   "outputs": [
    {
     "data": {
      "text/plain": [
       "const                    0.297585\n",
       "Year                     0.226167\n",
       "holiday                  0.047875\n",
       "workingday               0.089251\n",
       "temp                     0.344771\n",
       "atemp                    0.169790\n",
       "humidity                -0.266206\n",
       "windspeed               -0.198598\n",
       "season_spring           -0.115511\n",
       "season_winter            0.061016\n",
       "month_July              -0.052780\n",
       "month_Mar                0.045627\n",
       "month_Sep                0.068353\n",
       "weekday_Sat              0.105309\n",
       "weekday_Sun              0.055150\n",
       "weathersit_Light Snow   -0.224711\n",
       "dtype: float64"
      ]
     },
     "execution_count": 444,
     "metadata": {},
     "output_type": "execute_result"
    }
   ],
   "source": [
    "# Check the parameters obtained\n",
    "\n",
    "lr1.params"
   ]
  },
  {
   "cell_type": "code",
   "execution_count": 445,
   "id": "7b138d38",
   "metadata": {},
   "outputs": [
    {
     "name": "stdout",
     "output_type": "stream",
     "text": [
      "                            OLS Regression Results                            \n",
      "==============================================================================\n",
      "Dep. Variable:                Rentals   R-squared:                       0.831\n",
      "Model:                            OLS   Adj. R-squared:                  0.827\n",
      "Method:                 Least Squares   F-statistic:                     174.3\n",
      "Date:                Fri, 16 Aug 2024   Prob (F-statistic):          5.41e-181\n",
      "Time:                        23:35:07   Log-Likelihood:                 493.12\n",
      "No. Observations:                 510   AIC:                            -956.2\n",
      "Df Residuals:                     495   BIC:                            -892.7\n",
      "Df Model:                          14                                         \n",
      "Covariance Type:            nonrobust                                         \n",
      "=========================================================================================\n",
      "                            coef    std err          t      P>|t|      [0.025      0.975]\n",
      "-----------------------------------------------------------------------------------------\n",
      "const                     0.2976      0.026     11.333      0.000       0.246       0.349\n",
      "Year                      0.2262      0.008     26.919      0.000       0.210       0.243\n",
      "holiday                   0.0479      0.023      2.084      0.038       0.003       0.093\n",
      "workingday                0.0893      0.010      9.097      0.000       0.070       0.109\n",
      "temp                      0.3448      0.133      2.598      0.010       0.084       0.605\n",
      "atemp                     0.1698      0.139      1.219      0.224      -0.104       0.444\n",
      "humidity                 -0.2662      0.031     -8.537      0.000      -0.327      -0.205\n",
      "windspeed                -0.1986      0.028     -6.977      0.000      -0.255      -0.143\n",
      "season_spring            -0.1155      0.016     -7.424      0.000      -0.146      -0.085\n",
      "season_winter             0.0610      0.013      4.731      0.000       0.036       0.086\n",
      "month_July               -0.0528      0.018     -3.002      0.003      -0.087      -0.018\n",
      "month_Mar                 0.0456      0.016      2.804      0.005       0.014       0.078\n",
      "month_Sep                 0.0684      0.016      4.323      0.000       0.037       0.099\n",
      "weekday_Sat               0.1053      0.012      8.727      0.000       0.082       0.129\n",
      "weekday_Sun               0.0551      0.012      4.482      0.000       0.031       0.079\n",
      "weathersit_Light Snow    -0.2247      0.028     -8.124      0.000      -0.279      -0.170\n",
      "==============================================================================\n",
      "Omnibus:                       74.112   Durbin-Watson:                   2.018\n",
      "Prob(Omnibus):                  0.000   Jarque-Bera (JB):              144.679\n",
      "Skew:                          -0.829   Prob(JB):                     3.83e-32\n",
      "Kurtosis:                       5.014   Cond. No.                     3.02e+15\n",
      "==============================================================================\n",
      "\n",
      "Notes:\n",
      "[1] Standard Errors assume that the covariance matrix of the errors is correctly specified.\n",
      "[2] The smallest eigenvalue is 1.71e-28. This might indicate that there are\n",
      "strong multicollinearity problems or that the design matrix is singular.\n"
     ]
    }
   ],
   "source": [
    "# Print a summary of the linear regression model obtained\n",
    "print(lr1.summary())"
   ]
  },
  {
   "cell_type": "markdown",
   "id": "4d47e43c",
   "metadata": {},
   "source": [
    "## ***Model - 2***   <br>\n",
    "* Removing the variable 'atemp' based on its Very High 'VIF' value.<br>\n",
    "* Even though the VIF of atemp is second highest, we decided to drop 'atemp' and not 'temp' based on general knowledge that temperature can be an important factor for a business like bike rentals, and wanted to retain 'temp'.<br>"
   ]
  },
  {
   "cell_type": "code",
   "execution_count": 446,
   "id": "f60793a6",
   "metadata": {},
   "outputs": [],
   "source": [
    "X_train_new = X_train_rfe.drop([\"atemp\"], axis = 1)"
   ]
  },
  {
   "cell_type": "code",
   "execution_count": 447,
   "id": "320af25e",
   "metadata": {},
   "outputs": [
    {
     "data": {
      "text/html": [
       "<div>\n",
       "<style scoped>\n",
       "    .dataframe tbody tr th:only-of-type {\n",
       "        vertical-align: middle;\n",
       "    }\n",
       "\n",
       "    .dataframe tbody tr th {\n",
       "        vertical-align: top;\n",
       "    }\n",
       "\n",
       "    .dataframe thead th {\n",
       "        text-align: right;\n",
       "    }\n",
       "</style>\n",
       "<table border=\"1\" class=\"dataframe\">\n",
       "  <thead>\n",
       "    <tr style=\"text-align: right;\">\n",
       "      <th></th>\n",
       "      <th>Features</th>\n",
       "      <th>VIF</th>\n",
       "    </tr>\n",
       "  </thead>\n",
       "  <tbody>\n",
       "    <tr>\n",
       "      <th>2</th>\n",
       "      <td>workingday</td>\n",
       "      <td>41.24</td>\n",
       "    </tr>\n",
       "    <tr>\n",
       "      <th>11</th>\n",
       "      <td>weekday_Sat</td>\n",
       "      <td>9.74</td>\n",
       "    </tr>\n",
       "    <tr>\n",
       "      <th>12</th>\n",
       "      <td>weekday_Sun</td>\n",
       "      <td>9.39</td>\n",
       "    </tr>\n",
       "    <tr>\n",
       "      <th>3</th>\n",
       "      <td>temp</td>\n",
       "      <td>2.93</td>\n",
       "    </tr>\n",
       "    <tr>\n",
       "      <th>6</th>\n",
       "      <td>season_spring</td>\n",
       "      <td>2.65</td>\n",
       "    </tr>\n",
       "    <tr>\n",
       "      <th>1</th>\n",
       "      <td>holiday</td>\n",
       "      <td>2.44</td>\n",
       "    </tr>\n",
       "    <tr>\n",
       "      <th>7</th>\n",
       "      <td>season_winter</td>\n",
       "      <td>1.77</td>\n",
       "    </tr>\n",
       "    <tr>\n",
       "      <th>8</th>\n",
       "      <td>month_July</td>\n",
       "      <td>1.31</td>\n",
       "    </tr>\n",
       "    <tr>\n",
       "      <th>4</th>\n",
       "      <td>humidity</td>\n",
       "      <td>1.27</td>\n",
       "    </tr>\n",
       "    <tr>\n",
       "      <th>5</th>\n",
       "      <td>windspeed</td>\n",
       "      <td>1.18</td>\n",
       "    </tr>\n",
       "    <tr>\n",
       "      <th>9</th>\n",
       "      <td>month_Mar</td>\n",
       "      <td>1.12</td>\n",
       "    </tr>\n",
       "    <tr>\n",
       "      <th>13</th>\n",
       "      <td>weathersit_Light Snow</td>\n",
       "      <td>1.11</td>\n",
       "    </tr>\n",
       "    <tr>\n",
       "      <th>10</th>\n",
       "      <td>month_Sep</td>\n",
       "      <td>1.10</td>\n",
       "    </tr>\n",
       "    <tr>\n",
       "      <th>0</th>\n",
       "      <td>Year</td>\n",
       "      <td>1.03</td>\n",
       "    </tr>\n",
       "  </tbody>\n",
       "</table>\n",
       "</div>"
      ],
      "text/plain": [
       "                 Features    VIF\n",
       "2              workingday  41.24\n",
       "11            weekday_Sat   9.74\n",
       "12            weekday_Sun   9.39\n",
       "3                    temp   2.93\n",
       "6           season_spring   2.65\n",
       "1                 holiday   2.44\n",
       "7           season_winter   1.77\n",
       "8              month_July   1.31\n",
       "4                humidity   1.27\n",
       "5               windspeed   1.18\n",
       "9               month_Mar   1.12\n",
       "13  weathersit_Light Snow   1.11\n",
       "10              month_Sep   1.10\n",
       "0                    Year   1.03"
      ]
     },
     "execution_count": 447,
     "metadata": {},
     "output_type": "execute_result"
    }
   ],
   "source": [
    "# Create a dataframe that will contain the names of all the feature variables and their respective VIFs\n",
    "vif = pd.DataFrame()\n",
    "vif['Features'] = X_train_new.columns\n",
    "vif['VIF'] = [variance_inflation_factor(X_train_new.values, i) for i in range(X_train_new.shape[1])]\n",
    "vif['VIF'] = round(vif['VIF'], 2)\n",
    "vif = vif.sort_values(by = \"VIF\", ascending = False)\n",
    "vif"
   ]
  },
  {
   "cell_type": "code",
   "execution_count": 448,
   "id": "0595cb59",
   "metadata": {},
   "outputs": [],
   "source": [
    "# Add a constant\n",
    "X_train_lm2 = sm.add_constant(X_train_new)\n",
    "\n",
    "# Create a first fitted model\n",
    "lr2 = sm.OLS(y_train, X_train_lm2).fit()"
   ]
  },
  {
   "cell_type": "code",
   "execution_count": 449,
   "id": "e60c8914",
   "metadata": {},
   "outputs": [
    {
     "data": {
      "text/plain": [
       "const                    0.300155\n",
       "Year                     0.226160\n",
       "holiday                  0.047729\n",
       "workingday               0.089999\n",
       "temp                     0.501987\n",
       "humidity                -0.264475\n",
       "windspeed               -0.204769\n",
       "season_spring           -0.115806\n",
       "season_winter            0.062235\n",
       "month_July              -0.052873\n",
       "month_Mar                0.046418\n",
       "month_Sep                0.067340\n",
       "weekday_Sat              0.106292\n",
       "weekday_Sun              0.056134\n",
       "weathersit_Light Snow   -0.225742\n",
       "dtype: float64"
      ]
     },
     "execution_count": 449,
     "metadata": {},
     "output_type": "execute_result"
    }
   ],
   "source": [
    "lr2.params"
   ]
  },
  {
   "cell_type": "code",
   "execution_count": 450,
   "id": "73da2fce",
   "metadata": {},
   "outputs": [
    {
     "name": "stdout",
     "output_type": "stream",
     "text": [
      "                            OLS Regression Results                            \n",
      "==============================================================================\n",
      "Dep. Variable:                Rentals   R-squared:                       0.831\n",
      "Model:                            OLS   Adj. R-squared:                  0.826\n",
      "Method:                 Least Squares   F-statistic:                     187.4\n",
      "Date:                Fri, 16 Aug 2024   Prob (F-statistic):          8.09e-182\n",
      "Time:                        23:35:43   Log-Likelihood:                 492.36\n",
      "No. Observations:                 510   AIC:                            -956.7\n",
      "Df Residuals:                     496   BIC:                            -897.4\n",
      "Df Model:                          13                                         \n",
      "Covariance Type:            nonrobust                                         \n",
      "=========================================================================================\n",
      "                            coef    std err          t      P>|t|      [0.025      0.975]\n",
      "-----------------------------------------------------------------------------------------\n",
      "const                     0.3002      0.026     11.462      0.000       0.249       0.352\n",
      "Year                      0.2262      0.008     26.905      0.000       0.210       0.243\n",
      "holiday                   0.0477      0.023      2.076      0.038       0.003       0.093\n",
      "workingday                0.0900      0.010      9.187      0.000       0.071       0.109\n",
      "temp                      0.5020      0.031     16.130      0.000       0.441       0.563\n",
      "humidity                 -0.2645      0.031     -8.486      0.000      -0.326      -0.203\n",
      "windspeed                -0.2048      0.028     -7.307      0.000      -0.260      -0.150\n",
      "season_spring            -0.1158      0.016     -7.440      0.000      -0.146      -0.085\n",
      "season_winter             0.0622      0.013      4.837      0.000       0.037       0.088\n",
      "month_July               -0.0529      0.018     -3.006      0.003      -0.087      -0.018\n",
      "month_Mar                 0.0464      0.016      2.853      0.005       0.014       0.078\n",
      "month_Sep                 0.0673      0.016      4.262      0.000       0.036       0.098\n",
      "weekday_Sat               0.1063      0.012      8.824      0.000       0.083       0.130\n",
      "weekday_Sun               0.0561      0.012      4.570      0.000       0.032       0.080\n",
      "weathersit_Light Snow    -0.2257      0.028     -8.161      0.000      -0.280      -0.171\n",
      "==============================================================================\n",
      "Omnibus:                       72.484   Durbin-Watson:                   2.020\n",
      "Prob(Omnibus):                  0.000   Jarque-Bera (JB):              140.581\n",
      "Skew:                          -0.815   Prob(JB):                     2.97e-31\n",
      "Kurtosis:                       4.989   Cond. No.                     2.82e+15\n",
      "==============================================================================\n",
      "\n",
      "Notes:\n",
      "[1] Standard Errors assume that the covariance matrix of the errors is correctly specified.\n",
      "[2] The smallest eigenvalue is 1.79e-28. This might indicate that there are\n",
      "strong multicollinearity problems or that the design matrix is singular.\n"
     ]
    }
   ],
   "source": [
    "# Print a summary of the linear regression model obtained\n",
    "print(lr2.summary())"
   ]
  },
  {
   "cell_type": "markdown",
   "id": "2c07e5a2",
   "metadata": {},
   "source": [
    "## ***Model - 3***  <br>\n",
    "* Removing the variable 'workingday' based on its Very High 'VIF' value."
   ]
  },
  {
   "cell_type": "code",
   "execution_count": 451,
   "id": "741915b6",
   "metadata": {},
   "outputs": [],
   "source": [
    "X_train_new = X_train_new.drop([\"workingday\"], axis = 1)"
   ]
  },
  {
   "cell_type": "code",
   "execution_count": 452,
   "id": "c687febb",
   "metadata": {},
   "outputs": [
    {
     "data": {
      "text/html": [
       "<div>\n",
       "<style scoped>\n",
       "    .dataframe tbody tr th:only-of-type {\n",
       "        vertical-align: middle;\n",
       "    }\n",
       "\n",
       "    .dataframe tbody tr th {\n",
       "        vertical-align: top;\n",
       "    }\n",
       "\n",
       "    .dataframe thead th {\n",
       "        text-align: right;\n",
       "    }\n",
       "</style>\n",
       "<table border=\"1\" class=\"dataframe\">\n",
       "  <thead>\n",
       "    <tr style=\"text-align: right;\">\n",
       "      <th></th>\n",
       "      <th>Features</th>\n",
       "      <th>VIF</th>\n",
       "    </tr>\n",
       "  </thead>\n",
       "  <tbody>\n",
       "    <tr>\n",
       "      <th>3</th>\n",
       "      <td>humidity</td>\n",
       "      <td>14.72</td>\n",
       "    </tr>\n",
       "    <tr>\n",
       "      <th>2</th>\n",
       "      <td>temp</td>\n",
       "      <td>13.08</td>\n",
       "    </tr>\n",
       "    <tr>\n",
       "      <th>4</th>\n",
       "      <td>windspeed</td>\n",
       "      <td>4.95</td>\n",
       "    </tr>\n",
       "    <tr>\n",
       "      <th>5</th>\n",
       "      <td>season_spring</td>\n",
       "      <td>2.52</td>\n",
       "    </tr>\n",
       "    <tr>\n",
       "      <th>0</th>\n",
       "      <td>Year</td>\n",
       "      <td>2.04</td>\n",
       "    </tr>\n",
       "    <tr>\n",
       "      <th>6</th>\n",
       "      <td>season_winter</td>\n",
       "      <td>1.91</td>\n",
       "    </tr>\n",
       "    <tr>\n",
       "      <th>7</th>\n",
       "      <td>month_July</td>\n",
       "      <td>1.41</td>\n",
       "    </tr>\n",
       "    <tr>\n",
       "      <th>10</th>\n",
       "      <td>weekday_Sat</td>\n",
       "      <td>1.22</td>\n",
       "    </tr>\n",
       "    <tr>\n",
       "      <th>11</th>\n",
       "      <td>weekday_Sun</td>\n",
       "      <td>1.21</td>\n",
       "    </tr>\n",
       "    <tr>\n",
       "      <th>8</th>\n",
       "      <td>month_Mar</td>\n",
       "      <td>1.20</td>\n",
       "    </tr>\n",
       "    <tr>\n",
       "      <th>9</th>\n",
       "      <td>month_Sep</td>\n",
       "      <td>1.19</td>\n",
       "    </tr>\n",
       "    <tr>\n",
       "      <th>12</th>\n",
       "      <td>weathersit_Light Snow</td>\n",
       "      <td>1.11</td>\n",
       "    </tr>\n",
       "    <tr>\n",
       "      <th>1</th>\n",
       "      <td>holiday</td>\n",
       "      <td>1.05</td>\n",
       "    </tr>\n",
       "  </tbody>\n",
       "</table>\n",
       "</div>"
      ],
      "text/plain": [
       "                 Features    VIF\n",
       "3                humidity  14.72\n",
       "2                    temp  13.08\n",
       "4               windspeed   4.95\n",
       "5           season_spring   2.52\n",
       "0                    Year   2.04\n",
       "6           season_winter   1.91\n",
       "7              month_July   1.41\n",
       "10            weekday_Sat   1.22\n",
       "11            weekday_Sun   1.21\n",
       "8               month_Mar   1.20\n",
       "9               month_Sep   1.19\n",
       "12  weathersit_Light Snow   1.11\n",
       "1                 holiday   1.05"
      ]
     },
     "execution_count": 452,
     "metadata": {},
     "output_type": "execute_result"
    }
   ],
   "source": [
    "# Create a dataframe that will contain the names of all the feature variables and their respective VIFs\n",
    "vif = pd.DataFrame()\n",
    "vif['Features'] = X_train_new.columns\n",
    "vif['VIF'] = [variance_inflation_factor(X_train_new.values, i) for i in range(X_train_new.shape[1])]\n",
    "vif['VIF'] = round(vif['VIF'], 2)\n",
    "vif = vif.sort_values(by = \"VIF\", ascending = False)\n",
    "vif"
   ]
  },
  {
   "cell_type": "code",
   "execution_count": 453,
   "id": "84267633",
   "metadata": {},
   "outputs": [],
   "source": [
    "# Add a constant\n",
    "X_train_lm3 = sm.add_constant(X_train_new)\n",
    "\n",
    "# Create a first fitted model\n",
    "lr3 = sm.OLS(y_train, X_train_lm3).fit()"
   ]
  },
  {
   "cell_type": "code",
   "execution_count": 454,
   "id": "70bd93bb",
   "metadata": {},
   "outputs": [
    {
     "data": {
      "text/plain": [
       "const                    0.390153\n",
       "Year                     0.226160\n",
       "holiday                 -0.042270\n",
       "temp                     0.501987\n",
       "humidity                -0.264475\n",
       "windspeed               -0.204769\n",
       "season_spring           -0.115806\n",
       "season_winter            0.062235\n",
       "month_July              -0.052873\n",
       "month_Mar                0.046418\n",
       "month_Sep                0.067340\n",
       "weekday_Sat              0.016294\n",
       "weekday_Sun             -0.033864\n",
       "weathersit_Light Snow   -0.225742\n",
       "dtype: float64"
      ]
     },
     "execution_count": 454,
     "metadata": {},
     "output_type": "execute_result"
    }
   ],
   "source": [
    "# Check the parameters obtained\n",
    "\n",
    "lr3.params"
   ]
  },
  {
   "cell_type": "code",
   "execution_count": 455,
   "id": "678429c6",
   "metadata": {},
   "outputs": [
    {
     "name": "stdout",
     "output_type": "stream",
     "text": [
      "                            OLS Regression Results                            \n",
      "==============================================================================\n",
      "Dep. Variable:                Rentals   R-squared:                       0.831\n",
      "Model:                            OLS   Adj. R-squared:                  0.826\n",
      "Method:                 Least Squares   F-statistic:                     187.4\n",
      "Date:                Fri, 16 Aug 2024   Prob (F-statistic):          8.09e-182\n",
      "Time:                        23:36:10   Log-Likelihood:                 492.36\n",
      "No. Observations:                 510   AIC:                            -956.7\n",
      "Df Residuals:                     496   BIC:                            -897.4\n",
      "Df Model:                          13                                         \n",
      "Covariance Type:            nonrobust                                         \n",
      "=========================================================================================\n",
      "                            coef    std err          t      P>|t|      [0.025      0.975]\n",
      "-----------------------------------------------------------------------------------------\n",
      "const                     0.3902      0.032     12.129      0.000       0.327       0.453\n",
      "Year                      0.2262      0.008     26.905      0.000       0.210       0.243\n",
      "holiday                  -0.0423      0.028     -1.528      0.127      -0.097       0.012\n",
      "temp                      0.5020      0.031     16.130      0.000       0.441       0.563\n",
      "humidity                 -0.2645      0.031     -8.486      0.000      -0.326      -0.203\n",
      "windspeed                -0.2048      0.028     -7.307      0.000      -0.260      -0.150\n",
      "season_spring            -0.1158      0.016     -7.440      0.000      -0.146      -0.085\n",
      "season_winter             0.0622      0.013      4.837      0.000       0.037       0.088\n",
      "month_July               -0.0529      0.018     -3.006      0.003      -0.087      -0.018\n",
      "month_Mar                 0.0464      0.016      2.853      0.005       0.014       0.078\n",
      "month_Sep                 0.0673      0.016      4.262      0.000       0.036       0.098\n",
      "weekday_Sat               0.0163      0.012      1.378      0.169      -0.007       0.040\n",
      "weekday_Sun              -0.0339      0.012     -2.804      0.005      -0.058      -0.010\n",
      "weathersit_Light Snow    -0.2257      0.028     -8.161      0.000      -0.280      -0.171\n",
      "==============================================================================\n",
      "Omnibus:                       72.484   Durbin-Watson:                   2.020\n",
      "Prob(Omnibus):                  0.000   Jarque-Bera (JB):              140.581\n",
      "Skew:                          -0.815   Prob(JB):                     2.97e-31\n",
      "Kurtosis:                       4.989   Cond. No.                         16.9\n",
      "==============================================================================\n",
      "\n",
      "Notes:\n",
      "[1] Standard Errors assume that the covariance matrix of the errors is correctly specified.\n"
     ]
    }
   ],
   "source": [
    "# Print a summary of the linear regression model obtained\n",
    "print(lr3.summary())"
   ]
  },
  {
   "cell_type": "markdown",
   "id": "dfb806a1",
   "metadata": {},
   "source": [
    "## ***Model - 4***  <br>\n",
    "* Removing the variable 'humidity' based on its Very High 'VIF' value."
   ]
  },
  {
   "cell_type": "code",
   "execution_count": 456,
   "id": "701db13f",
   "metadata": {},
   "outputs": [],
   "source": [
    "X_train_new = X_train_new.drop(['humidity'], axis = 1)"
   ]
  },
  {
   "cell_type": "code",
   "execution_count": 457,
   "id": "c8e75f14",
   "metadata": {},
   "outputs": [
    {
     "data": {
      "text/html": [
       "<div>\n",
       "<style scoped>\n",
       "    .dataframe tbody tr th:only-of-type {\n",
       "        vertical-align: middle;\n",
       "    }\n",
       "\n",
       "    .dataframe tbody tr th {\n",
       "        vertical-align: top;\n",
       "    }\n",
       "\n",
       "    .dataframe thead th {\n",
       "        text-align: right;\n",
       "    }\n",
       "</style>\n",
       "<table border=\"1\" class=\"dataframe\">\n",
       "  <thead>\n",
       "    <tr style=\"text-align: right;\">\n",
       "      <th></th>\n",
       "      <th>Features</th>\n",
       "      <th>VIF</th>\n",
       "    </tr>\n",
       "  </thead>\n",
       "  <tbody>\n",
       "    <tr>\n",
       "      <th>3</th>\n",
       "      <td>windspeed</td>\n",
       "      <td>4.90</td>\n",
       "    </tr>\n",
       "    <tr>\n",
       "      <th>2</th>\n",
       "      <td>temp</td>\n",
       "      <td>4.86</td>\n",
       "    </tr>\n",
       "    <tr>\n",
       "      <th>0</th>\n",
       "      <td>Year</td>\n",
       "      <td>2.04</td>\n",
       "    </tr>\n",
       "    <tr>\n",
       "      <th>4</th>\n",
       "      <td>season_spring</td>\n",
       "      <td>1.81</td>\n",
       "    </tr>\n",
       "    <tr>\n",
       "      <th>5</th>\n",
       "      <td>season_winter</td>\n",
       "      <td>1.38</td>\n",
       "    </tr>\n",
       "    <tr>\n",
       "      <th>6</th>\n",
       "      <td>month_July</td>\n",
       "      <td>1.36</td>\n",
       "    </tr>\n",
       "    <tr>\n",
       "      <th>9</th>\n",
       "      <td>weekday_Sat</td>\n",
       "      <td>1.22</td>\n",
       "    </tr>\n",
       "    <tr>\n",
       "      <th>10</th>\n",
       "      <td>weekday_Sun</td>\n",
       "      <td>1.21</td>\n",
       "    </tr>\n",
       "    <tr>\n",
       "      <th>7</th>\n",
       "      <td>month_Mar</td>\n",
       "      <td>1.20</td>\n",
       "    </tr>\n",
       "    <tr>\n",
       "      <th>8</th>\n",
       "      <td>month_Sep</td>\n",
       "      <td>1.19</td>\n",
       "    </tr>\n",
       "    <tr>\n",
       "      <th>11</th>\n",
       "      <td>weathersit_Light Snow</td>\n",
       "      <td>1.06</td>\n",
       "    </tr>\n",
       "    <tr>\n",
       "      <th>1</th>\n",
       "      <td>holiday</td>\n",
       "      <td>1.05</td>\n",
       "    </tr>\n",
       "  </tbody>\n",
       "</table>\n",
       "</div>"
      ],
      "text/plain": [
       "                 Features   VIF\n",
       "3               windspeed  4.90\n",
       "2                    temp  4.86\n",
       "0                    Year  2.04\n",
       "4           season_spring  1.81\n",
       "5           season_winter  1.38\n",
       "6              month_July  1.36\n",
       "9             weekday_Sat  1.22\n",
       "10            weekday_Sun  1.21\n",
       "7               month_Mar  1.20\n",
       "8               month_Sep  1.19\n",
       "11  weathersit_Light Snow  1.06\n",
       "1                 holiday  1.05"
      ]
     },
     "execution_count": 457,
     "metadata": {},
     "output_type": "execute_result"
    }
   ],
   "source": [
    "# Create a dataframe that will contain the names of all the feature variables and their respective VIFs\n",
    "vif = pd.DataFrame()\n",
    "vif['Features'] = X_train_new.columns\n",
    "vif['VIF'] = [variance_inflation_factor(X_train_new.values, i) for i in range(X_train_new.shape[1])]\n",
    "vif['VIF'] = round(vif['VIF'], 2)\n",
    "vif = vif.sort_values(by = \"VIF\", ascending = False)\n",
    "vif"
   ]
  },
  {
   "cell_type": "code",
   "execution_count": 458,
   "id": "0dacdf1a",
   "metadata": {},
   "outputs": [],
   "source": [
    "# Add a constant\n",
    "X_train_lm4 = sm.add_constant(X_train_new)\n",
    "\n",
    "# Create a first fitted model\n",
    "lr4 = sm.OLS(y_train, X_train_lm4).fit()"
   ]
  },
  {
   "cell_type": "code",
   "execution_count": 459,
   "id": "d5fba152",
   "metadata": {},
   "outputs": [
    {
     "data": {
      "text/plain": [
       "const                    0.214863\n",
       "Year                     0.233911\n",
       "holiday                 -0.038545\n",
       "temp                     0.467665\n",
       "windspeed               -0.141898\n",
       "season_spring           -0.115812\n",
       "season_winter            0.051874\n",
       "month_July              -0.035022\n",
       "month_Mar                0.054073\n",
       "month_Sep                0.056944\n",
       "weekday_Sat              0.016247\n",
       "weekday_Sun             -0.035017\n",
       "weathersit_Light Snow   -0.288010\n",
       "dtype: float64"
      ]
     },
     "execution_count": 459,
     "metadata": {},
     "output_type": "execute_result"
    }
   ],
   "source": [
    "# Check the parameters obtained\n",
    "\n",
    "lr4.params"
   ]
  },
  {
   "cell_type": "code",
   "execution_count": 460,
   "id": "656b831c",
   "metadata": {},
   "outputs": [
    {
     "name": "stdout",
     "output_type": "stream",
     "text": [
      "                            OLS Regression Results                            \n",
      "==============================================================================\n",
      "Dep. Variable:                Rentals   R-squared:                       0.806\n",
      "Model:                            OLS   Adj. R-squared:                  0.802\n",
      "Method:                 Least Squares   F-statistic:                     172.4\n",
      "Date:                Fri, 16 Aug 2024   Prob (F-statistic):          2.04e-168\n",
      "Time:                        23:37:06   Log-Likelihood:                 457.79\n",
      "No. Observations:                 510   AIC:                            -889.6\n",
      "Df Residuals:                     497   BIC:                            -834.5\n",
      "Df Model:                          12                                         \n",
      "Covariance Type:            nonrobust                                         \n",
      "=========================================================================================\n",
      "                            coef    std err          t      P>|t|      [0.025      0.975]\n",
      "-----------------------------------------------------------------------------------------\n",
      "const                     0.2149      0.026      8.151      0.000       0.163       0.267\n",
      "Year                      0.2339      0.009     26.185      0.000       0.216       0.251\n",
      "holiday                  -0.0385      0.030     -1.303      0.193      -0.097       0.020\n",
      "temp                      0.4677      0.033     14.177      0.000       0.403       0.532\n",
      "windspeed                -0.1419      0.029     -4.911      0.000      -0.199      -0.085\n",
      "season_spring            -0.1158      0.017     -6.960      0.000      -0.149      -0.083\n",
      "season_winter             0.0519      0.014      3.789      0.000       0.025       0.079\n",
      "month_July               -0.0350      0.019     -1.876      0.061      -0.072       0.002\n",
      "month_Mar                 0.0541      0.017      3.114      0.002       0.020       0.088\n",
      "month_Sep                 0.0569      0.017      3.382      0.001       0.024       0.090\n",
      "weekday_Sat               0.0162      0.013      1.285      0.199      -0.009       0.041\n",
      "weekday_Sun              -0.0350      0.013     -2.713      0.007      -0.060      -0.010\n",
      "weathersit_Light Snow    -0.2880      0.029    -10.101      0.000      -0.344      -0.232\n",
      "==============================================================================\n",
      "Omnibus:                       79.280   Durbin-Watson:                   2.003\n",
      "Prob(Omnibus):                  0.000   Jarque-Bera (JB):              150.827\n",
      "Skew:                          -0.891   Prob(JB):                     1.77e-33\n",
      "Kurtosis:                       4.980   Cond. No.                         13.9\n",
      "==============================================================================\n",
      "\n",
      "Notes:\n",
      "[1] Standard Errors assume that the covariance matrix of the errors is correctly specified.\n"
     ]
    }
   ],
   "source": [
    "# Print a summary of the linear regression model obtained\n",
    "print(lr4.summary())"
   ]
  },
  {
   "cell_type": "markdown",
   "id": "458f7348",
   "metadata": {},
   "source": [
    "###  ***Model - 5*** "
   ]
  },
  {
   "cell_type": "markdown",
   "id": "396c46bd",
   "metadata": {},
   "source": [
    "* All Variables VIF values are well below 5. The 'weekday_Sat' variable having its High P-value 0.199."
   ]
  },
  {
   "cell_type": "code",
   "execution_count": 461,
   "id": "30092fef",
   "metadata": {},
   "outputs": [],
   "source": [
    "X_train_new = X_train_new.drop(['weekday_Sat'], axis = 1)"
   ]
  },
  {
   "cell_type": "code",
   "execution_count": 462,
   "id": "97ea42b1",
   "metadata": {},
   "outputs": [
    {
     "data": {
      "text/html": [
       "<div>\n",
       "<style scoped>\n",
       "    .dataframe tbody tr th:only-of-type {\n",
       "        vertical-align: middle;\n",
       "    }\n",
       "\n",
       "    .dataframe tbody tr th {\n",
       "        vertical-align: top;\n",
       "    }\n",
       "\n",
       "    .dataframe thead th {\n",
       "        text-align: right;\n",
       "    }\n",
       "</style>\n",
       "<table border=\"1\" class=\"dataframe\">\n",
       "  <thead>\n",
       "    <tr style=\"text-align: right;\">\n",
       "      <th></th>\n",
       "      <th>Features</th>\n",
       "      <th>VIF</th>\n",
       "    </tr>\n",
       "  </thead>\n",
       "  <tbody>\n",
       "    <tr>\n",
       "      <th>3</th>\n",
       "      <td>windspeed</td>\n",
       "      <td>4.84</td>\n",
       "    </tr>\n",
       "    <tr>\n",
       "      <th>2</th>\n",
       "      <td>temp</td>\n",
       "      <td>4.83</td>\n",
       "    </tr>\n",
       "    <tr>\n",
       "      <th>0</th>\n",
       "      <td>Year</td>\n",
       "      <td>2.03</td>\n",
       "    </tr>\n",
       "    <tr>\n",
       "      <th>4</th>\n",
       "      <td>season_spring</td>\n",
       "      <td>1.80</td>\n",
       "    </tr>\n",
       "    <tr>\n",
       "      <th>5</th>\n",
       "      <td>season_winter</td>\n",
       "      <td>1.37</td>\n",
       "    </tr>\n",
       "    <tr>\n",
       "      <th>6</th>\n",
       "      <td>month_July</td>\n",
       "      <td>1.36</td>\n",
       "    </tr>\n",
       "    <tr>\n",
       "      <th>7</th>\n",
       "      <td>month_Mar</td>\n",
       "      <td>1.20</td>\n",
       "    </tr>\n",
       "    <tr>\n",
       "      <th>8</th>\n",
       "      <td>month_Sep</td>\n",
       "      <td>1.19</td>\n",
       "    </tr>\n",
       "    <tr>\n",
       "      <th>9</th>\n",
       "      <td>weekday_Sun</td>\n",
       "      <td>1.17</td>\n",
       "    </tr>\n",
       "    <tr>\n",
       "      <th>10</th>\n",
       "      <td>weathersit_Light Snow</td>\n",
       "      <td>1.06</td>\n",
       "    </tr>\n",
       "    <tr>\n",
       "      <th>1</th>\n",
       "      <td>holiday</td>\n",
       "      <td>1.05</td>\n",
       "    </tr>\n",
       "  </tbody>\n",
       "</table>\n",
       "</div>"
      ],
      "text/plain": [
       "                 Features   VIF\n",
       "3               windspeed  4.84\n",
       "2                    temp  4.83\n",
       "0                    Year  2.03\n",
       "4           season_spring  1.80\n",
       "5           season_winter  1.37\n",
       "6              month_July  1.36\n",
       "7               month_Mar  1.20\n",
       "8               month_Sep  1.19\n",
       "9             weekday_Sun  1.17\n",
       "10  weathersit_Light Snow  1.06\n",
       "1                 holiday  1.05"
      ]
     },
     "execution_count": 462,
     "metadata": {},
     "output_type": "execute_result"
    }
   ],
   "source": [
    "# Create a dataframe that will contain the names of all the feature variables and their respective VIFs\n",
    "vif = pd.DataFrame()\n",
    "vif['Features'] = X_train_new.columns\n",
    "vif['VIF'] = [variance_inflation_factor(X_train_new.values, i) for i in range(X_train_new.shape[1])]\n",
    "vif['VIF'] = round(vif['VIF'], 2)\n",
    "vif = vif.sort_values(by = \"VIF\", ascending = False)\n",
    "vif"
   ]
  },
  {
   "cell_type": "code",
   "execution_count": 463,
   "id": "df87b935",
   "metadata": {},
   "outputs": [],
   "source": [
    "# Add a constant\n",
    "X_train_lm5 = sm.add_constant(X_train_new)\n",
    "\n",
    "# Create a first fitted model\n",
    "lr5 = sm.OLS(y_train, X_train_lm5).fit()"
   ]
  },
  {
   "cell_type": "code",
   "execution_count": 464,
   "id": "2fdeedda",
   "metadata": {},
   "outputs": [
    {
     "data": {
      "text/plain": [
       "const                    0.218943\n",
       "Year                     0.233887\n",
       "holiday                 -0.041581\n",
       "temp                     0.464893\n",
       "windspeed               -0.140266\n",
       "season_spring           -0.116248\n",
       "season_winter            0.051345\n",
       "month_July              -0.033975\n",
       "month_Mar                0.053177\n",
       "month_Sep                0.057618\n",
       "weekday_Sun             -0.038012\n",
       "weathersit_Light Snow   -0.288475\n",
       "dtype: float64"
      ]
     },
     "execution_count": 464,
     "metadata": {},
     "output_type": "execute_result"
    }
   ],
   "source": [
    "# Check the parameters obtained\n",
    "\n",
    "lr5.params"
   ]
  },
  {
   "cell_type": "code",
   "execution_count": 465,
   "id": "fce717db",
   "metadata": {},
   "outputs": [
    {
     "name": "stdout",
     "output_type": "stream",
     "text": [
      "                            OLS Regression Results                            \n",
      "==============================================================================\n",
      "Dep. Variable:                Rentals   R-squared:                       0.806\n",
      "Model:                            OLS   Adj. R-squared:                  0.801\n",
      "Method:                 Least Squares   F-statistic:                     187.7\n",
      "Date:                Fri, 16 Aug 2024   Prob (F-statistic):          3.30e-169\n",
      "Time:                        23:38:01   Log-Likelihood:                 456.94\n",
      "No. Observations:                 510   AIC:                            -889.9\n",
      "Df Residuals:                     498   BIC:                            -839.1\n",
      "Df Model:                          11                                         \n",
      "Covariance Type:            nonrobust                                         \n",
      "=========================================================================================\n",
      "                            coef    std err          t      P>|t|      [0.025      0.975]\n",
      "-----------------------------------------------------------------------------------------\n",
      "const                     0.2189      0.026      8.361      0.000       0.167       0.270\n",
      "Year                      0.2339      0.009     26.165      0.000       0.216       0.251\n",
      "holiday                  -0.0416      0.030     -1.409      0.159      -0.100       0.016\n",
      "temp                      0.4649      0.033     14.114      0.000       0.400       0.530\n",
      "windspeed                -0.1403      0.029     -4.856      0.000      -0.197      -0.084\n",
      "season_spring            -0.1162      0.017     -6.983      0.000      -0.149      -0.084\n",
      "season_winter             0.0513      0.014      3.749      0.000       0.024       0.078\n",
      "month_July               -0.0340      0.019     -1.821      0.069      -0.071       0.003\n",
      "month_Mar                 0.0532      0.017      3.063      0.002       0.019       0.087\n",
      "month_Sep                 0.0576      0.017      3.421      0.001       0.025       0.091\n",
      "weekday_Sun              -0.0380      0.013     -2.992      0.003      -0.063      -0.013\n",
      "weathersit_Light Snow    -0.2885      0.029    -10.112      0.000      -0.345      -0.232\n",
      "==============================================================================\n",
      "Omnibus:                       74.700   Durbin-Watson:                   2.014\n",
      "Prob(Omnibus):                  0.000   Jarque-Bera (JB):              144.371\n",
      "Skew:                          -0.839   Prob(JB):                     4.47e-32\n",
      "Kurtosis:                       4.995   Cond. No.                         13.8\n",
      "==============================================================================\n",
      "\n",
      "Notes:\n",
      "[1] Standard Errors assume that the covariance matrix of the errors is correctly specified.\n"
     ]
    }
   ],
   "source": [
    "# Print a summary of the linear regression model obtained\n",
    "print(lr5.summary())"
   ]
  },
  {
   "cell_type": "markdown",
   "id": "120e01c8",
   "metadata": {},
   "source": [
    "###  ***Model - 6*** "
   ]
  },
  {
   "cell_type": "markdown",
   "id": "c24f41a4",
   "metadata": {},
   "source": [
    "* Removing 'holiday' due to high P-value as it suppose to be less than 0.05"
   ]
  },
  {
   "cell_type": "code",
   "execution_count": 466,
   "id": "af30bc77",
   "metadata": {},
   "outputs": [],
   "source": [
    "X_train_new = X_train_new.drop(['holiday'], axis = 1)"
   ]
  },
  {
   "cell_type": "code",
   "execution_count": 467,
   "id": "c202c9f2",
   "metadata": {},
   "outputs": [
    {
     "data": {
      "text/html": [
       "<div>\n",
       "<style scoped>\n",
       "    .dataframe tbody tr th:only-of-type {\n",
       "        vertical-align: middle;\n",
       "    }\n",
       "\n",
       "    .dataframe tbody tr th {\n",
       "        vertical-align: top;\n",
       "    }\n",
       "\n",
       "    .dataframe thead th {\n",
       "        text-align: right;\n",
       "    }\n",
       "</style>\n",
       "<table border=\"1\" class=\"dataframe\">\n",
       "  <thead>\n",
       "    <tr style=\"text-align: right;\">\n",
       "      <th></th>\n",
       "      <th>Features</th>\n",
       "      <th>VIF</th>\n",
       "    </tr>\n",
       "  </thead>\n",
       "  <tbody>\n",
       "    <tr>\n",
       "      <th>2</th>\n",
       "      <td>windspeed</td>\n",
       "      <td>4.84</td>\n",
       "    </tr>\n",
       "    <tr>\n",
       "      <th>1</th>\n",
       "      <td>temp</td>\n",
       "      <td>4.83</td>\n",
       "    </tr>\n",
       "    <tr>\n",
       "      <th>0</th>\n",
       "      <td>Year</td>\n",
       "      <td>2.03</td>\n",
       "    </tr>\n",
       "    <tr>\n",
       "      <th>3</th>\n",
       "      <td>season_spring</td>\n",
       "      <td>1.79</td>\n",
       "    </tr>\n",
       "    <tr>\n",
       "      <th>4</th>\n",
       "      <td>season_winter</td>\n",
       "      <td>1.36</td>\n",
       "    </tr>\n",
       "    <tr>\n",
       "      <th>5</th>\n",
       "      <td>month_July</td>\n",
       "      <td>1.35</td>\n",
       "    </tr>\n",
       "    <tr>\n",
       "      <th>6</th>\n",
       "      <td>month_Mar</td>\n",
       "      <td>1.20</td>\n",
       "    </tr>\n",
       "    <tr>\n",
       "      <th>7</th>\n",
       "      <td>month_Sep</td>\n",
       "      <td>1.19</td>\n",
       "    </tr>\n",
       "    <tr>\n",
       "      <th>8</th>\n",
       "      <td>weekday_Sun</td>\n",
       "      <td>1.17</td>\n",
       "    </tr>\n",
       "    <tr>\n",
       "      <th>9</th>\n",
       "      <td>weathersit_Light Snow</td>\n",
       "      <td>1.06</td>\n",
       "    </tr>\n",
       "  </tbody>\n",
       "</table>\n",
       "</div>"
      ],
      "text/plain": [
       "                Features   VIF\n",
       "2              windspeed  4.84\n",
       "1                   temp  4.83\n",
       "0                   Year  2.03\n",
       "3          season_spring  1.79\n",
       "4          season_winter  1.36\n",
       "5             month_July  1.35\n",
       "6              month_Mar  1.20\n",
       "7              month_Sep  1.19\n",
       "8            weekday_Sun  1.17\n",
       "9  weathersit_Light Snow  1.06"
      ]
     },
     "execution_count": 467,
     "metadata": {},
     "output_type": "execute_result"
    }
   ],
   "source": [
    "# Create a dataframe that will contain the names of all the feature variables and their respective VIFs\n",
    "vif = pd.DataFrame()\n",
    "vif['Features'] = X_train_new.columns\n",
    "vif['VIF'] = [variance_inflation_factor(X_train_new.values, i) for i in range(X_train_new.shape[1])]\n",
    "vif['VIF'] = round(vif['VIF'], 2)\n",
    "vif = vif.sort_values(by = \"VIF\", ascending = False)\n",
    "vif"
   ]
  },
  {
   "cell_type": "code",
   "execution_count": 468,
   "id": "59c1243b",
   "metadata": {},
   "outputs": [],
   "source": [
    "# Add a constant\n",
    "X_train_lm6 = sm.add_constant(X_train_new)\n",
    "\n",
    "# Create a first fitted model\n",
    "lr6 = sm.OLS(y_train, X_train_lm6).fit()"
   ]
  },
  {
   "cell_type": "code",
   "execution_count": 469,
   "id": "94017f5d",
   "metadata": {},
   "outputs": [
    {
     "data": {
      "text/plain": [
       "const                    0.219031\n",
       "Year                     0.233334\n",
       "temp                     0.464549\n",
       "windspeed               -0.141206\n",
       "season_spring           -0.116958\n",
       "season_winter            0.049992\n",
       "month_July              -0.035547\n",
       "month_Mar                0.054147\n",
       "month_Sep                0.058492\n",
       "weekday_Sun             -0.036793\n",
       "weathersit_Light Snow   -0.287432\n",
       "dtype: float64"
      ]
     },
     "execution_count": 469,
     "metadata": {},
     "output_type": "execute_result"
    }
   ],
   "source": [
    "# Check the parameters obtained\n",
    "\n",
    "lr6.params"
   ]
  },
  {
   "cell_type": "code",
   "execution_count": 470,
   "id": "81220cf0",
   "metadata": {},
   "outputs": [
    {
     "name": "stdout",
     "output_type": "stream",
     "text": [
      "                            OLS Regression Results                            \n",
      "==============================================================================\n",
      "Dep. Variable:                Rentals   R-squared:                       0.805\n",
      "Model:                            OLS   Adj. R-squared:                  0.801\n",
      "Method:                 Least Squares   F-statistic:                     205.8\n",
      "Date:                Fri, 16 Aug 2024   Prob (F-statistic):          6.02e-170\n",
      "Time:                        23:38:36   Log-Likelihood:                 455.93\n",
      "No. Observations:                 510   AIC:                            -889.9\n",
      "Df Residuals:                     499   BIC:                            -843.3\n",
      "Df Model:                          10                                         \n",
      "Covariance Type:            nonrobust                                         \n",
      "=========================================================================================\n",
      "                            coef    std err          t      P>|t|      [0.025      0.975]\n",
      "-----------------------------------------------------------------------------------------\n",
      "const                     0.2190      0.026      8.356      0.000       0.168       0.271\n",
      "Year                      0.2333      0.009     26.102      0.000       0.216       0.251\n",
      "temp                      0.4645      0.033     14.090      0.000       0.400       0.529\n",
      "windspeed                -0.1412      0.029     -4.885      0.000      -0.198      -0.084\n",
      "season_spring            -0.1170      0.017     -7.022      0.000      -0.150      -0.084\n",
      "season_winter             0.0500      0.014      3.656      0.000       0.023       0.077\n",
      "month_July               -0.0355      0.019     -1.906      0.057      -0.072       0.001\n",
      "month_Mar                 0.0541      0.017      3.118      0.002       0.020       0.088\n",
      "month_Sep                 0.0585      0.017      3.472      0.001       0.025       0.092\n",
      "weekday_Sun              -0.0368      0.013     -2.900      0.004      -0.062      -0.012\n",
      "weathersit_Light Snow    -0.2874      0.029    -10.068      0.000      -0.344      -0.231\n",
      "==============================================================================\n",
      "Omnibus:                       76.508   Durbin-Watson:                   1.999\n",
      "Prob(Omnibus):                  0.000   Jarque-Bera (JB):              150.723\n",
      "Skew:                          -0.850   Prob(JB):                     1.87e-33\n",
      "Kurtosis:                       5.051   Cond. No.                         13.8\n",
      "==============================================================================\n",
      "\n",
      "Notes:\n",
      "[1] Standard Errors assume that the covariance matrix of the errors is correctly specified.\n"
     ]
    }
   ],
   "source": [
    "# Print a summary of the linear regression model obtained\n",
    "print(lr6.summary())"
   ]
  },
  {
   "cell_type": "markdown",
   "id": "df6fc159",
   "metadata": {},
   "source": [
    "* This model looks good, as there seems to be VERY LOW Multicollinearity between the predictors and the p-values for all the predictors seems to be significant. For now, we will consider this as our final model (unless the Test data metrics are not significantly close to this number)."
   ]
  },
  {
   "cell_type": "markdown",
   "id": "99a8a4e5",
   "metadata": {},
   "source": [
    "## Final Model Interpretation <br>\n",
    "Hypothesis Testing:<br>\n",
    "Hypothesis testing states that:<br>\n",
    "\n",
    "H0:B1=B2=...=Bn=0<br>\n",
    "H1: at least one Bi!=0"
   ]
  },
  {
   "cell_type": "markdown",
   "id": "e39abfe7",
   "metadata": {},
   "source": [
    "####  lr6 model coefficient values"
   ]
  },
  {
   "cell_type": "markdown",
   "id": "694d35ee",
   "metadata": {},
   "source": [
    "* const                    0.219031\n",
    "* Year                     0.233334\n",
    "* temp                     0.464549\n",
    "* windspeed               -0.141206\n",
    "* season_spring           -0.116958\n",
    "* season_winter            0.049992\n",
    "* month_July              -0.035547\n",
    "* month_Mar                0.054147\n",
    "* month_Sep                0.058492\n",
    "* weekday_Sun             -0.036793\n",
    "* weathersit_Light Snow   -0.287432"
   ]
  },
  {
   "cell_type": "markdown",
   "id": "a6b8cbed",
   "metadata": {},
   "source": [
    "* From the lr6 model summary, it is evident that all our coefficients are not equal to zerowhich means We REJECT the NULL HYPOTHESIS"
   ]
  },
  {
   "cell_type": "markdown",
   "id": "7000e93a",
   "metadata": {},
   "source": [
    "#### F Statistics"
   ]
  },
  {
   "cell_type": "markdown",
   "id": "b6b2e467",
   "metadata": {},
   "source": [
    "F-Statistics is used for testing the overall significance of the Model: Higher the F-Statistics, more significant the Model is.\n",
    "\n",
    "*  F-statistic:                     205.8\n",
    "* Prob (F-statistic):          6.02e-170<br>\n",
    "The F-Statistics value are 205.8 (which is greater than 1) and the p-value of all the variables are well below 0.05 it states that the overall model is significant."
   ]
  },
  {
   "cell_type": "markdown",
   "id": "2e4ad8c5",
   "metadata": {},
   "source": [
    "## The equation of best fitted surface based on model lr6:"
   ]
  },
  {
   "cell_type": "markdown",
   "id": "2364acca",
   "metadata": {},
   "source": [
    "Rentals = 0.219031 + (Year x 0.233334) + (temp x 0.464549) + (season_Spring x -0.116958) + (season_Winter x 0.049992) + (windspeed x -0.141206) + (month_July x -0.035547) + (month_Mar x 0.054147) + (month_Sep x 0.058492) + (weathersit_Light Snow x -0.287432) + ( weekday_Sun x -0.036793)"
   ]
  },
  {
   "cell_type": "markdown",
   "id": "1a5bf86e",
   "metadata": {},
   "source": [
    "## Interpretation of Coefficients: \n",
    "\n",
    "This is similar to equation: Y = B0 + B1*x1 + B2*X2 ...Bn*Xn \n",
    "where:\n",
    "* If Positive sign: A coefficients value of (B1,B2,B3...Bn) indicated that a unit increase in Independent variable(X1,X2,X3...Xn), increases the bike hire numbers by (B1,B2,B3...Bn) units.\n",
    "\n",
    "\n",
    "* If Negative sign: A coefficients value of (B1,B2,B3...Bn) indicated that a unit increase in Independent variable(X1,X2,X3...Xn), decreases the bike hire numbers by (B1,B2,B3...Bn) units.\n",
    "\n",
    "\n",
    "* const: The Constant value of ‘0.219031’ indicated that, in the absence of all other predictor variables <br> (i.e. when x1,x2...xn =0), The bike rental can still increase by 0.219031 units."
   ]
  },
  {
   "cell_type": "markdown",
   "id": "37b4fa9d",
   "metadata": {},
   "source": [
    "## ASSUMPTIONS "
   ]
  },
  {
   "cell_type": "markdown",
   "id": "a4e367e8",
   "metadata": {},
   "source": [
    "#### Error terms are normally distributed with mean zero (not X, Y)\n",
    "* Residual Analysis Of Training Data"
   ]
  },
  {
   "cell_type": "code",
   "execution_count": 471,
   "id": "7cb4a7f1",
   "metadata": {},
   "outputs": [],
   "source": [
    "y_train_pred = lr6.predict(X_train_lm6)"
   ]
  },
  {
   "cell_type": "code",
   "execution_count": 472,
   "id": "4c86143f",
   "metadata": {},
   "outputs": [
    {
     "data": {
      "text/plain": [
       "Text(0.5, 0, 'Errors')"
      ]
     },
     "execution_count": 472,
     "metadata": {},
     "output_type": "execute_result"
    },
    {
     "data": {
      "image/png": "[encoded data removed]",
      "text/plain": [
       "<Figure size 432x288 with 1 Axes>"
      ]
     },
     "metadata": {
      "needs_background": "light"
     },
     "output_type": "display_data"
    }
   ],
   "source": [
    "res = y_train-y_train_pred\n",
    "# Plot the histogram of the error terms\n",
    "fig = plt.figure()\n",
    "sns.distplot((res), bins = 20)\n",
    "fig.suptitle('Error Terms', fontsize = 20)                  # Plot heading \n",
    "plt.xlabel('Errors', fontsize = 18)"
   ]
  },
  {
   "cell_type": "markdown",
   "id": "1e28c780",
   "metadata": {},
   "source": [
    "* From the above histogram, we could see that the Residuals are normally distributed. Hence our assumption for Linear Regression is valid."
   ]
  },
  {
   "cell_type": "code",
   "execution_count": 473,
   "id": "1020bb7f",
   "metadata": {},
   "outputs": [
    {
     "data": {
      "text/plain": [
       "[<matplotlib.lines.Line2D at 0x144ae302fd0>]"
      ]
     },
     "execution_count": 473,
     "metadata": {},
     "output_type": "execute_result"
    },
    {
     "data": {
      "image/png": "[encoded data removed]",
      "text/plain": [
       "<Figure size 576x432 with 1 Axes>"
      ]
     },
     "metadata": {
      "needs_background": "light"
     },
     "output_type": "display_data"
    }
   ],
   "source": [
    "plt.figure(figsize=(8,6))\n",
    "plt.scatter(y_train, y_train_pred, c='crimson')\n",
    "plt.xlabel(\"Actual Values\")\n",
    "plt.ylabel(\"Predicted Values\")\n",
    "p1 = max(max(y_train_pred), max(y_train))\n",
    "p2 = min(min(y_train_pred), min(y_train))\n",
    "plt.plot([p1, p2], [p1, p2], 'b-')"
   ]
  },
  {
   "cell_type": "markdown",
   "id": "4f0d277f",
   "metadata": {},
   "source": [
    "###  Homoscedasticity"
   ]
  },
  {
   "cell_type": "code",
   "execution_count": 478,
   "id": "b032efc0",
   "metadata": {},
   "outputs": [
    {
     "data": {
      "image/png": "[encoded data removed]",
      "text/plain": [
       "<Figure size 432x288 with 1 Axes>"
      ]
     },
     "metadata": {
      "needs_background": "light"
     },
     "output_type": "display_data"
    }
   ],
   "source": [
    "residual = y_train - y_train_pred\n",
    "sns.scatterplot(y_train,residual)\n",
    "plt.plot(y_train,(y_train - y_train), '-r')\n",
    "plt.xlabel('Count')\n",
    "plt.ylabel('Residual')\n",
    "plt.show()"
   ]
  },
  {
   "cell_type": "markdown",
   "id": "4867a321",
   "metadata": {},
   "source": [
    "# Making Prediction Using Final Model"
   ]
  },
  {
   "cell_type": "markdown",
   "id": "3f2e8e1d",
   "metadata": {},
   "source": [
    "Now that we have fitted the model and checked the assumptions, it's time to go ahead and make predictions using the final model (lr6)\n",
    "\n",
    "Applying the scaling on the test sets"
   ]
  },
  {
   "cell_type": "code",
   "execution_count": 480,
   "id": "112043bc",
   "metadata": {},
   "outputs": [],
   "source": [
    "num_vars = ['temp', 'atemp', 'humidity', 'windspeed','Rentals']\n",
    "\n",
    "df_test[num_vars] = scaler.transform(df_test[num_vars])"
   ]
  },
  {
   "cell_type": "code",
   "execution_count": 481,
   "id": "46f5bf67",
   "metadata": {},
   "outputs": [
    {
     "data": {
      "text/html": [
       "<div>\n",
       "<style scoped>\n",
       "    .dataframe tbody tr th:only-of-type {\n",
       "        vertical-align: middle;\n",
       "    }\n",
       "\n",
       "    .dataframe tbody tr th {\n",
       "        vertical-align: top;\n",
       "    }\n",
       "\n",
       "    .dataframe thead th {\n",
       "        text-align: right;\n",
       "    }\n",
       "</style>\n",
       "<table border=\"1\" class=\"dataframe\">\n",
       "  <thead>\n",
       "    <tr style=\"text-align: right;\">\n",
       "      <th></th>\n",
       "      <th>Year</th>\n",
       "      <th>holiday</th>\n",
       "      <th>workingday</th>\n",
       "      <th>temp</th>\n",
       "      <th>atemp</th>\n",
       "      <th>humidity</th>\n",
       "      <th>windspeed</th>\n",
       "      <th>Rentals</th>\n",
       "      <th>season_spring</th>\n",
       "      <th>season_summer</th>\n",
       "      <th>...</th>\n",
       "      <th>month_Oct</th>\n",
       "      <th>month_Sep</th>\n",
       "      <th>weekday_Mon</th>\n",
       "      <th>weekday_Sat</th>\n",
       "      <th>weekday_Sun</th>\n",
       "      <th>weekday_Thu</th>\n",
       "      <th>weekday_Tue</th>\n",
       "      <th>weekday_Wed</th>\n",
       "      <th>weathersit_Light Snow</th>\n",
       "      <th>weathersit_Mist + Cloudy</th>\n",
       "    </tr>\n",
       "  </thead>\n",
       "  <tbody>\n",
       "    <tr>\n",
       "      <th>22</th>\n",
       "      <td>0</td>\n",
       "      <td>0</td>\n",
       "      <td>0</td>\n",
       "      <td>0.046591</td>\n",
       "      <td>0.025950</td>\n",
       "      <td>0.453529</td>\n",
       "      <td>0.462217</td>\n",
       "      <td>0.110907</td>\n",
       "      <td>1</td>\n",
       "      <td>0</td>\n",
       "      <td>...</td>\n",
       "      <td>0</td>\n",
       "      <td>0</td>\n",
       "      <td>0</td>\n",
       "      <td>0</td>\n",
       "      <td>1</td>\n",
       "      <td>0</td>\n",
       "      <td>0</td>\n",
       "      <td>0</td>\n",
       "      <td>0</td>\n",
       "      <td>0</td>\n",
       "    </tr>\n",
       "    <tr>\n",
       "      <th>468</th>\n",
       "      <td>1</td>\n",
       "      <td>0</td>\n",
       "      <td>0</td>\n",
       "      <td>0.543115</td>\n",
       "      <td>0.536771</td>\n",
       "      <td>0.522511</td>\n",
       "      <td>0.347424</td>\n",
       "      <td>0.855729</td>\n",
       "      <td>0</td>\n",
       "      <td>1</td>\n",
       "      <td>...</td>\n",
       "      <td>0</td>\n",
       "      <td>0</td>\n",
       "      <td>0</td>\n",
       "      <td>1</td>\n",
       "      <td>0</td>\n",
       "      <td>0</td>\n",
       "      <td>0</td>\n",
       "      <td>0</td>\n",
       "      <td>0</td>\n",
       "      <td>0</td>\n",
       "    </tr>\n",
       "    <tr>\n",
       "      <th>553</th>\n",
       "      <td>1</td>\n",
       "      <td>0</td>\n",
       "      <td>0</td>\n",
       "      <td>0.951196</td>\n",
       "      <td>0.933712</td>\n",
       "      <td>0.596104</td>\n",
       "      <td>0.212829</td>\n",
       "      <td>0.534975</td>\n",
       "      <td>0</td>\n",
       "      <td>0</td>\n",
       "      <td>...</td>\n",
       "      <td>0</td>\n",
       "      <td>0</td>\n",
       "      <td>0</td>\n",
       "      <td>0</td>\n",
       "      <td>1</td>\n",
       "      <td>0</td>\n",
       "      <td>0</td>\n",
       "      <td>0</td>\n",
       "      <td>0</td>\n",
       "      <td>0</td>\n",
       "    </tr>\n",
       "    <tr>\n",
       "      <th>504</th>\n",
       "      <td>1</td>\n",
       "      <td>0</td>\n",
       "      <td>0</td>\n",
       "      <td>0.699909</td>\n",
       "      <td>0.662746</td>\n",
       "      <td>0.551083</td>\n",
       "      <td>0.478229</td>\n",
       "      <td>0.817648</td>\n",
       "      <td>0</td>\n",
       "      <td>1</td>\n",
       "      <td>...</td>\n",
       "      <td>0</td>\n",
       "      <td>0</td>\n",
       "      <td>0</td>\n",
       "      <td>0</td>\n",
       "      <td>1</td>\n",
       "      <td>0</td>\n",
       "      <td>0</td>\n",
       "      <td>0</td>\n",
       "      <td>0</td>\n",
       "      <td>0</td>\n",
       "    </tr>\n",
       "    <tr>\n",
       "      <th>353</th>\n",
       "      <td>0</td>\n",
       "      <td>0</td>\n",
       "      <td>1</td>\n",
       "      <td>0.407087</td>\n",
       "      <td>0.416610</td>\n",
       "      <td>0.618615</td>\n",
       "      <td>0.080770</td>\n",
       "      <td>0.428900</td>\n",
       "      <td>0</td>\n",
       "      <td>0</td>\n",
       "      <td>...</td>\n",
       "      <td>0</td>\n",
       "      <td>0</td>\n",
       "      <td>0</td>\n",
       "      <td>0</td>\n",
       "      <td>0</td>\n",
       "      <td>0</td>\n",
       "      <td>1</td>\n",
       "      <td>0</td>\n",
       "      <td>0</td>\n",
       "      <td>1</td>\n",
       "    </tr>\n",
       "  </tbody>\n",
       "</table>\n",
       "<p>5 rows × 30 columns</p>\n",
       "</div>"
      ],
      "text/plain": [
       "     Year  holiday  workingday      temp     atemp  humidity  windspeed  \\\n",
       "22      0        0           0  0.046591  0.025950  0.453529   0.462217   \n",
       "468     1        0           0  0.543115  0.536771  0.522511   0.347424   \n",
       "553     1        0           0  0.951196  0.933712  0.596104   0.212829   \n",
       "504     1        0           0  0.699909  0.662746  0.551083   0.478229   \n",
       "353     0        0           1  0.407087  0.416610  0.618615   0.080770   \n",
       "\n",
       "      Rentals  season_spring  season_summer  ...  month_Oct  month_Sep  \\\n",
       "22   0.110907              1              0  ...          0          0   \n",
       "468  0.855729              0              1  ...          0          0   \n",
       "553  0.534975              0              0  ...          0          0   \n",
       "504  0.817648              0              1  ...          0          0   \n",
       "353  0.428900              0              0  ...          0          0   \n",
       "\n",
       "     weekday_Mon  weekday_Sat  weekday_Sun  weekday_Thu  weekday_Tue  \\\n",
       "22             0            0            1            0            0   \n",
       "468            0            1            0            0            0   \n",
       "553            0            0            1            0            0   \n",
       "504            0            0            1            0            0   \n",
       "353            0            0            0            0            1   \n",
       "\n",
       "     weekday_Wed  weathersit_Light Snow  weathersit_Mist + Cloudy  \n",
       "22             0                      0                         0  \n",
       "468            0                      0                         0  \n",
       "553            0                      0                         0  \n",
       "504            0                      0                         0  \n",
       "353            0                      0                         1  \n",
       "\n",
       "[5 rows x 30 columns]"
      ]
     },
     "execution_count": 481,
     "metadata": {},
     "output_type": "execute_result"
    }
   ],
   "source": [
    "df_test.head()"
   ]
  },
  {
   "cell_type": "markdown",
   "id": "c25e24ee",
   "metadata": {},
   "source": [
    "Dividing into X_test and y_test"
   ]
  },
  {
   "cell_type": "code",
   "execution_count": 483,
   "id": "488d70cb",
   "metadata": {},
   "outputs": [
    {
     "name": "stdout",
     "output_type": "stream",
     "text": [
      "<class 'pandas.core.frame.DataFrame'>\n",
      "Int64Index: 219 entries, 22 to 313\n",
      "Data columns (total 29 columns):\n",
      " #   Column                    Non-Null Count  Dtype  \n",
      "---  ------                    --------------  -----  \n",
      " 0   Year                      219 non-null    int64  \n",
      " 1   holiday                   219 non-null    int64  \n",
      " 2   workingday                219 non-null    int64  \n",
      " 3   temp                      219 non-null    float64\n",
      " 4   atemp                     219 non-null    float64\n",
      " 5   humidity                  219 non-null    float64\n",
      " 6   windspeed                 219 non-null    float64\n",
      " 7   season_spring             219 non-null    uint8  \n",
      " 8   season_summer             219 non-null    uint8  \n",
      " 9   season_winter             219 non-null    uint8  \n",
      " 10  month_Aug                 219 non-null    uint8  \n",
      " 11  month_Dec                 219 non-null    uint8  \n",
      " 12  month_Feb                 219 non-null    uint8  \n",
      " 13  month_Jan                 219 non-null    uint8  \n",
      " 14  month_July                219 non-null    uint8  \n",
      " 15  month_June                219 non-null    uint8  \n",
      " 16  month_Mar                 219 non-null    uint8  \n",
      " 17  month_May                 219 non-null    uint8  \n",
      " 18  month_Nov                 219 non-null    uint8  \n",
      " 19  month_Oct                 219 non-null    uint8  \n",
      " 20  month_Sep                 219 non-null    uint8  \n",
      " 21  weekday_Mon               219 non-null    uint8  \n",
      " 22  weekday_Sat               219 non-null    uint8  \n",
      " 23  weekday_Sun               219 non-null    uint8  \n",
      " 24  weekday_Thu               219 non-null    uint8  \n",
      " 25  weekday_Tue               219 non-null    uint8  \n",
      " 26  weekday_Wed               219 non-null    uint8  \n",
      " 27  weathersit_Light Snow     219 non-null    uint8  \n",
      " 28  weathersit_Mist + Cloudy  219 non-null    uint8  \n",
      "dtypes: float64(4), int64(3), uint8(22)\n",
      "memory usage: 18.4 KB\n"
     ]
    }
   ],
   "source": [
    "y_test = df_test.pop('Rentals')\n",
    "X_test = df_test\n",
    "X_test.info()"
   ]
  },
  {
   "cell_type": "code",
   "execution_count": 484,
   "id": "1d24f750",
   "metadata": {},
   "outputs": [
    {
     "name": "stdout",
     "output_type": "stream",
     "text": [
      "<class 'pandas.core.frame.DataFrame'>\n",
      "Int64Index: 219 entries, 22 to 313\n",
      "Data columns (total 11 columns):\n",
      " #   Column                 Non-Null Count  Dtype  \n",
      "---  ------                 --------------  -----  \n",
      " 0   const                  219 non-null    float64\n",
      " 1   Year                   219 non-null    int64  \n",
      " 2   temp                   219 non-null    float64\n",
      " 3   windspeed              219 non-null    float64\n",
      " 4   season_spring          219 non-null    uint8  \n",
      " 5   season_winter          219 non-null    uint8  \n",
      " 6   month_July             219 non-null    uint8  \n",
      " 7   month_Mar              219 non-null    uint8  \n",
      " 8   month_Sep              219 non-null    uint8  \n",
      " 9   weekday_Sun            219 non-null    uint8  \n",
      " 10  weathersit_Light Snow  219 non-null    uint8  \n",
      "dtypes: float64(3), int64(1), uint8(7)\n",
      "memory usage: 10.1 KB\n"
     ]
    }
   ],
   "source": [
    "#Selecting the variables that were part of final model.\n",
    "col1=X_train_new.columns\n",
    "X_test=X_test[col1]\n",
    "# Adding constant variable to test dataframe\n",
    "X_test_lm6 = sm.add_constant(X_test)\n",
    "X_test_lm6.info()"
   ]
  },
  {
   "cell_type": "code",
   "execution_count": 486,
   "id": "56069340",
   "metadata": {},
   "outputs": [],
   "source": [
    "# Making predictions using the final model (lr6)\n",
    "\n",
    "y_pred = lr6.predict(X_test_lm6)"
   ]
  },
  {
   "cell_type": "markdown",
   "id": "9de41ec6",
   "metadata": {},
   "source": [
    "# Model Evaluation"
   ]
  },
  {
   "cell_type": "code",
   "execution_count": 488,
   "id": "b826f6d5",
   "metadata": {},
   "outputs": [
    {
     "data": {
      "image/png": "[encoded data removed]",
      "text/plain": [
       "<Figure size 432x288 with 1 Axes>"
      ]
     },
     "metadata": {
      "needs_background": "light"
     },
     "output_type": "display_data"
    }
   ],
   "source": [
    "# Plotting y_test and y_pred to understand the spread\n",
    "\n",
    "fig = plt.figure()\n",
    "plt.scatter(y_test, y_pred)\n",
    "fig.suptitle('y_test vs y_pred', fontsize = 20)              # Plot heading \n",
    "plt.xlabel('y_test', fontsize = 18)                          # X-label\n",
    "plt.ylabel('y_pred', fontsize = 16) \n",
    "plt.show()"
   ]
  },
  {
   "cell_type": "code",
   "execution_count": 489,
   "id": "6a42b542",
   "metadata": {},
   "outputs": [
    {
     "data": {
      "text/plain": [
       "0.7903760665626467"
      ]
     },
     "execution_count": 489,
     "metadata": {},
     "output_type": "execute_result"
    }
   ],
   "source": [
    "from sklearn.metrics import r2_score\n",
    "#r2_scorer2_score(y_test, y_pred)\n",
    "(y_test, y_pred)"
   ]
  },
  {
   "cell_type": "code",
   "execution_count": 492,
   "id": "01d30bd5",
   "metadata": {},
   "outputs": [
    {
     "data": {
      "text/plain": [
       "(219, 10)"
      ]
     },
     "execution_count": 492,
     "metadata": {},
     "output_type": "execute_result"
    }
   ],
   "source": [
    "# We already have the value of R^2 (calculated in above step)\n",
    "\n",
    "r2=0.7903760665626467\n",
    "\n",
    "# Get the shape of X_test\n",
    "X_test.shape"
   ]
  },
  {
   "cell_type": "code",
   "execution_count": 493,
   "id": "6f92e35f",
   "metadata": {},
   "outputs": [
    {
     "data": {
      "text/plain": [
       "0.780297992839697"
      ]
     },
     "execution_count": 493,
     "metadata": {},
     "output_type": "execute_result"
    }
   ],
   "source": [
    "# n is number of rows in X\n",
    "\n",
    "n = X_test.shape[0]\n",
    "\n",
    "\n",
    "# Number of features (predictors, p) is the shape along axis 1\n",
    "p = X_test.shape[1]\n",
    "\n",
    "# We find the Adjusted R-squared using the formula\n",
    "\n",
    "adjusted_r2 = 1-(1-r2)*(n-1)/(n-p-1)\n",
    "adjusted_r2"
   ]
  },
  {
   "cell_type": "code",
   "execution_count": 495,
   "id": "9dd1e94c",
   "metadata": {},
   "outputs": [
    {
     "name": "stdout",
     "output_type": "stream",
     "text": [
      "Difference in r2 Score(%) 1.5000000000000013\n"
     ]
    }
   ],
   "source": [
    "r2_train=0.805\n",
    "r2_test=0.790\n",
    "\n",
    "# Checking the difference between the test-train r2 score \n",
    "print('Difference in r2 Score(%)',(r2_train - r2_test)*100)"
   ]
  },
  {
   "cell_type": "code",
   "execution_count": 496,
   "id": "87be43a2",
   "metadata": {},
   "outputs": [
    {
     "name": "stdout",
     "output_type": "stream",
     "text": [
      "Difference in Adjusted_R2 Score(%) 2.100000000000002\n"
     ]
    }
   ],
   "source": [
    "Train_Adjusted_R2 = 0.801\n",
    "Test_Adjusted_R2 = 0.780\n",
    "\n",
    "# Checking the difference between the test-train Adjusted_R2 score \n",
    "print('Difference in Adjusted_R2 Score(%)',(Train_Adjusted_R2-Test_Adjusted_R2)*100)"
   ]
  },
  {
   "cell_type": "markdown",
   "id": "7b876165",
   "metadata": {},
   "source": [
    "# <span style = 'color : Green' > **FINAL REPORT**"
   ]
  },
  {
   "cell_type": "markdown",
   "id": "364d6579",
   "metadata": {},
   "source": [
    "### As per our final Model, the top 3 predictor variables that influences the bike booking are:\n",
    "\n",
    "* Temperature (temp) - A coefficient value of ‘0.464549’ indicated that a unit increase in temp variable increases the bike hire numbers by 0.464549 units. <br>\n",
    "\n",
    "* Year (yr) - A coefficient value of ‘0.233334’ indicated that a unit increase in year variable increases the bike hire numbers by 0.233334 units.<br>\n",
    "\n",
    "* weekday_Sun - A coefficient value of ‘-0.036793’ indicated that a Weekday sunday, decrease the bike hire numbers by 0.036793 units.<br>\n",
    "\n",
    "* month_Mar and month_Sep - A coefficients value of 0.054147 & 0.058492 indicated that a (Mar & Sep)month, increases the bike hire numbers by 0.054147 & 0.058492 units.<br>\n",
    "\n",
    "* season_spring, windspeed,weathersit_light_snow are negative coefficients which decrease the bike hire numbers"
   ]
  },
  {
   "cell_type": "markdown",
   "id": "e4e2f629",
   "metadata": {},
   "source": [
    "### Business Goals\n",
    "* Temperature could be a prime factor for making decision for the Organisation\n",
    "* We can see demand for bikes was more in 2019 than 2018\n",
    "* Working days(Except sunday) and Month of march and sept as they have good influence on bike rentals. So it would be great to provide offers to the working individuals on this days."
   ]
  },
  {
   "cell_type": "code",
   "execution_count": null,
   "id": "e8fff9eb",
   "metadata": {},
   "outputs": [],
   "source": []
  }
 ],
 "metadata": {
  "kernelspec": {
   "display_name": "Python 3 (ipykernel)",
   "language": "python",
   "name": "python3"
  },
  "language_info": {
   "codemirror_mode": {
    "name": "ipython",
    "version": 3
   },
   "file_extension": ".py",
   "mimetype": "text/x-python",
   "name": "python",
   "nbconvert_exporter": "python",
   "pygments_lexer": "ipython3",
   "version": "3.9.12"
  }
 },
 "nbformat": 4,
 "nbformat_minor": 5
}
